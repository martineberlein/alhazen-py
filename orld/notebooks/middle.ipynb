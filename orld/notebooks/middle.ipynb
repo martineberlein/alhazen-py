{
 "cells": [
  {
   "cell_type": "markdown",
   "metadata": {
    "pycharm": {
     "name": "#%% md\n"
    }
   },
   "source": [
    "#### Initial Setup"
   ]
  },
  {
   "cell_type": "markdown",
   "metadata": {
    "pycharm": {
     "name": "#%% md\n"
    }
   },
   "source": [
    "<div class=\"alert alert-info\">\n",
    "[Tip]: To execute the Python code in the code cell below, click on the cell to select it and press <kbd>Shift</kbd> + <kbd>Enter</kbd>.\n",
    "</div>"
   ]
  },
  {
   "cell_type": "code",
   "execution_count": 1,
   "metadata": {
    "pycharm": {
     "name": "#%%\n"
    }
   },
   "outputs": [],
   "source": [
    "# To run this notebook we need the following dependencies\n",
    "# !pip install alhazen-py fuzzingbook pandas numpy sklearn"
   ]
  },
  {
   "cell_type": "markdown",
   "metadata": {
    "pycharm": {
     "name": "#%% md\n"
    }
   },
   "source": [
    "Example Bug Diagnosis (Tool Comparsion)\n",
    "==="
   ]
  },
  {
   "cell_type": "markdown",
   "metadata": {
    "pycharm": {
     "name": "#%% md\n"
    }
   },
   "source": [
    "First, we need a faulty program. We chose an implementation of the `middle(x, y, z)` function that returns the middle number of its three arguments. For example,`middle(1, 3, 2)` should return 2 because`1 < 2` an `2 < 3`. We introduced a fault in this implementation."
   ]
  },
  {
   "cell_type": "code",
   "execution_count": 2,
   "metadata": {
    "pycharm": {
     "name": "#%%\n"
    }
   },
   "outputs": [],
   "source": [
    "def middle(x, y, z):\n",
    "    m = z\n",
    "    if y < z:\n",
    "        if x < y:\n",
    "            m = y\n",
    "        elif x < z:\n",
    "            m = y  # bug\n",
    "    else:\n",
    "        if x > y:\n",
    "            m = y\n",
    "        elif x > z:\n",
    "            m = x\n",
    "    return m"
   ]
  },
  {
   "cell_type": "markdown",
   "metadata": {
    "pycharm": {
     "name": "#%% md\n"
    }
   },
   "source": [
    "Next, we introduce a class to capture test runs' results efficiently. The `TestResult` is an enum with two possible values, `NO_BUG` and `BUG`. `NO_BUG` donates a passing test case and `BUG` a failing one."
   ]
  },
  {
   "cell_type": "code",
   "execution_count": 3,
   "metadata": {
    "pycharm": {
     "name": "#%%\n"
    }
   },
   "outputs": [],
   "source": [
    "from enum import Enum\n",
    "\n",
    "class TestResult(Enum):\n",
    "    BUG = \"BUG\"\n",
    "    NO_BUG = \"NO_BUG\"\n",
    "\n",
    "    def __repr__(self):\n",
    "        return self.value"
   ]
  },
  {
   "cell_type": "markdown",
   "metadata": {
    "pycharm": {
     "name": "#%% md\n"
    }
   },
   "source": [
    "Now we implement a test function that takes the three arguments of `middle(x, y, z)` and an expected result. This test function compares the return of `middle(x, y, z)` with the desired value and returns `NO_BUG` if they match and `BUG` otherwise"
   ]
  },
  {
   "cell_type": "code",
   "execution_count": 4,
   "metadata": {
    "pycharm": {
     "name": "#%%\n"
    }
   },
   "outputs": [],
   "source": [
    "def test(function, x, y, z, expected):\n",
    "    try:\n",
    "        if function(x, y, z) == expected:\n",
    "            return TestResult.NO_BUG\n",
    "        else:\n",
    "            return TestResult.BUG\n",
    "    except BaseException:\n",
    "        return TestResult.BUG\n",
    "\n",
    "def test_middle(x, y, z, expected):\n",
    "    return test(middle, x, y, z, expected)"
   ]
  },
  {
   "cell_type": "code",
   "execution_count": 5,
   "metadata": {
    "pycharm": {
     "name": "#%%\n"
    }
   },
   "outputs": [
    {
     "data": {
      "text/plain": [
       "NO_BUG"
      ]
     },
     "execution_count": 5,
     "metadata": {},
     "output_type": "execute_result"
    }
   ],
   "source": [
    "test_middle(3, 2, 1, expected=2)"
   ]
  },
  {
   "cell_type": "code",
   "execution_count": 6,
   "metadata": {
    "pycharm": {
     "name": "#%%\n"
    }
   },
   "outputs": [
    {
     "data": {
      "text/plain": [
       "NO_BUG"
      ]
     },
     "execution_count": 6,
     "metadata": {},
     "output_type": "execute_result"
    }
   ],
   "source": [
    "test_middle(3, 1, 2, expected=2)"
   ]
  },
  {
   "cell_type": "code",
   "execution_count": 7,
   "metadata": {
    "pycharm": {
     "name": "#%%\n"
    }
   },
   "outputs": [
    {
     "data": {
      "text/plain": [
       "BUG"
      ]
     },
     "execution_count": 7,
     "metadata": {},
     "output_type": "execute_result"
    }
   ],
   "source": [
    "test_middle(2, 1, 3, expected=2)"
   ]
  },
  {
   "cell_type": "markdown",
   "metadata": {
    "pycharm": {
     "name": "#%% md\n"
    }
   },
   "source": [
    "As you can see, the result of `middle(2, 1, 3)` does not match the expected value 2. Hence, we found a failing test case."
   ]
  },
  {
   "cell_type": "markdown",
   "metadata": {
    "pycharm": {
     "name": "#%% md\n"
    }
   },
   "source": [
    "## Automatic Bug Explanations"
   ]
  },
  {
   "cell_type": "markdown",
   "metadata": {
    "pycharm": {
     "name": "#%% md\n"
    }
   },
   "source": [
    "We can now use automatic debugging techniques to automatically find the circumstances under which the function fails. The tools `ALHAZEN` and `AVICENNA` require a set of `initial test inputs` (at least one failure-inducing input is required), a `grammar`, and the `faulty function` itself."
   ]
  },
  {
   "cell_type": "code",
   "execution_count": 8,
   "metadata": {
    "pycharm": {
     "name": "#%%\n"
    }
   },
   "outputs": [],
   "source": [
    "# We use the dedicated OracleResult class from Alhazen\n",
    "from alhazen.oracle import OracleResult\n",
    "\n",
    "# This will allways give us the correct solution (more info see oracle problem)\n",
    "def oracle(x, y, z):\n",
    "    sorted_list = sorted([x, y, z])\n",
    "    return sorted_list[1]\n",
    "\n",
    "# Automatic test function for ALHAZEN and AVICENNA \n",
    "def test_dummy(inp: str):\n",
    "    x, y , z = eval(str(inp))\n",
    "    truth = oracle(x,y,z)\n",
    "    return OracleResult.BUG if test_middle(x,y,z, expected=truth) == TestResult.BUG else OracleResult.NO_BUG\n",
    "\n",
    "assert test_dummy(\"3, 1, 4\") == OracleResult.BUG\n",
    "assert test_dummy(\"3, 2, 1\") == OracleResult.NO_BUG"
   ]
  },
  {
   "cell_type": "code",
   "execution_count": 9,
   "metadata": {
    "pycharm": {
     "name": "#%%\n"
    }
   },
   "outputs": [],
   "source": [
    "from fuzzingbook.Grammars import Grammar, is_valid_grammar\n",
    "\n",
    "grammar: Grammar = {\n",
    "    \"<start>\": ['<x>, <y>, <z>'],\n",
    "    \"<x>\": [\"<integer>\"],\n",
    "    \"<y>\": [\"<integer>\"],\n",
    "    \"<z>\": [\"<integer>\"],\n",
    "    \"<integer>\": [\"<digit>\", \"<digit><integer>\"],\n",
    "    \"<digit>\": [str(num) for num in range(1, 10)]\n",
    "}\n",
    "assert is_valid_grammar(grammar)"
   ]
  },
  {
   "cell_type": "markdown",
   "metadata": {
    "pycharm": {
     "name": "#%% md\n"
    }
   },
   "source": [
    "We can now use this grammar to reproduce more test inputs."
   ]
  },
  {
   "cell_type": "code",
   "execution_count": 10,
   "metadata": {
    "pycharm": {
     "name": "#%%\n"
    }
   },
   "outputs": [
    {
     "name": "stdout",
     "output_type": "stream",
     "text": [
      "middle(524, 7, 673)                      BUG\n",
      "middle(9, 7, 6)                          NO_BUG\n",
      "middle(822, 3, 2)                        NO_BUG\n",
      "middle(1, 89, 26)                        NO_BUG\n",
      "middle(18, 9, 7)                         NO_BUG\n",
      "middle(3958, 4, 6)                       NO_BUG\n",
      "middle(2, 6, 6275)                       NO_BUG\n",
      "middle(232, 393282, 47)                  NO_BUG\n",
      "middle(5, 5, 1)                          NO_BUG\n",
      "middle(532, 6, 9)                        NO_BUG\n"
     ]
    }
   ],
   "source": [
    "from fuzzingbook.GrammarFuzzer import GrammarFuzzer\n",
    "\n",
    "fuzzer = GrammarFuzzer(grammar)\n",
    "for _ in range(10):\n",
    "    inp = fuzzer.fuzz()\n",
    "    print(f\"middle({inp})\".ljust(40), test_dummy(inp))"
   ]
  },
  {
   "cell_type": "markdown",
   "metadata": {
    "pycharm": {
     "name": "#%% md\n"
    }
   },
   "source": [
    "### ALHAZEN"
   ]
  },
  {
   "cell_type": "code",
   "execution_count": 11,
   "metadata": {
    "pycharm": {
     "name": "#%%\n"
    }
   },
   "outputs": [
    {
     "data": {
      "image/svg+xml": [
       "<?xml version=\"1.0\" encoding=\"UTF-8\" standalone=\"no\"?>\n",
       "<!DOCTYPE svg PUBLIC \"-//W3C//DTD SVG 1.1//EN\"\n",
       " \"http://www.w3.org/Graphics/SVG/1.1/DTD/svg11.dtd\">\n",
       "<!-- Generated by graphviz version 7.0.6 (20230106.0513)\n",
       " -->\n",
       "<!-- Title: Tree Pages: 1 -->\n",
       "<svg width=\"766pt\" height=\"552pt\"\n",
       " viewBox=\"0.00 0.00 765.50 552.00\" xmlns=\"http://www.w3.org/2000/svg\" xmlns:xlink=\"http://www.w3.org/1999/xlink\">\n",
       "<g id=\"graph0\" class=\"graph\" transform=\"scale(1 1) rotate(0) translate(4 548)\">\n",
       "<title>Tree</title>\n",
       "<polygon fill=\"white\" stroke=\"none\" points=\"-4,4 -4,-548 761.5,-548 761.5,4 -4,4\"/>\n",
       "<!-- 0 -->\n",
       "<g id=\"node1\" class=\"node\">\n",
       "<title>0</title>\n",
       "<path fill=\"#ffffff\" stroke=\"black\" d=\"M352,-544C352,-544 254,-544 254,-544 248,-544 242,-538 242,-532 242,-532 242,-473 242,-473 242,-467 248,-461 254,-461 254,-461 352,-461 352,-461 358,-461 364,-467 364,-473 364,-473 364,-532 364,-532 364,-538 358,-544 352,-544\"/>\n",
       "<text text-anchor=\"middle\" x=\"303\" y=\"-528.8\" font-family=\"Helvetica,sans-Serif\" font-size=\"14.00\">num(&lt;y&gt;) &lt;= 5.5</text>\n",
       "<text text-anchor=\"middle\" x=\"303\" y=\"-513.8\" font-family=\"Helvetica,sans-Serif\" font-size=\"14.00\">gini = 0.5</text>\n",
       "<text text-anchor=\"middle\" x=\"303\" y=\"-498.8\" font-family=\"Helvetica,sans-Serif\" font-size=\"14.00\">samples = 113</text>\n",
       "<text text-anchor=\"middle\" x=\"303\" y=\"-483.8\" font-family=\"Helvetica,sans-Serif\" font-size=\"14.00\">value = [1.0, 1.0]</text>\n",
       "<text text-anchor=\"middle\" x=\"303\" y=\"-468.8\" font-family=\"Helvetica,sans-Serif\" font-size=\"14.00\">class = NO_BUG</text>\n",
       "</g>\n",
       "<!-- 1 -->\n",
       "<g id=\"node2\" class=\"node\">\n",
       "<title>1</title>\n",
       "<path fill=\"#eda674\" stroke=\"black\" d=\"M282.5,-425C282.5,-425 159.5,-425 159.5,-425 153.5,-425 147.5,-419 147.5,-413 147.5,-413 147.5,-354 147.5,-354 147.5,-348 153.5,-342 159.5,-342 159.5,-342 282.5,-342 282.5,-342 288.5,-342 294.5,-348 294.5,-354 294.5,-354 294.5,-413 294.5,-413 294.5,-419 288.5,-425 282.5,-425\"/>\n",
       "<text text-anchor=\"middle\" x=\"221\" y=\"-409.8\" font-family=\"Helvetica,sans-Serif\" font-size=\"14.00\">num(&lt;z&gt;) &lt;= 3.5</text>\n",
       "<text text-anchor=\"middle\" x=\"221\" y=\"-394.8\" font-family=\"Helvetica,sans-Serif\" font-size=\"14.00\">gini = 0.353</text>\n",
       "<text text-anchor=\"middle\" x=\"221\" y=\"-379.8\" font-family=\"Helvetica,sans-Serif\" font-size=\"14.00\">samples = 35</text>\n",
       "<text text-anchor=\"middle\" x=\"221\" y=\"-364.8\" font-family=\"Helvetica,sans-Serif\" font-size=\"14.00\">value = [0.833, 0.248]</text>\n",
       "<text text-anchor=\"middle\" x=\"221\" y=\"-349.8\" font-family=\"Helvetica,sans-Serif\" font-size=\"14.00\">class = BUG</text>\n",
       "</g>\n",
       "<!-- 0&#45;&gt;1 -->\n",
       "<g id=\"edge1\" class=\"edge\">\n",
       "<title>0&#45;&gt;1</title>\n",
       "<path fill=\"none\" stroke=\"black\" d=\"M274.32,-460.58C268.42,-452.16 262.14,-443.2 256.04,-434.5\"/>\n",
       "<polygon fill=\"black\" stroke=\"black\" points=\"259,-432.62 250.39,-426.44 253.27,-436.64 259,-432.62\"/>\n",
       "<text text-anchor=\"middle\" x=\"245.19\" y=\"-446.12\" font-family=\"Helvetica,sans-Serif\" font-size=\"14.00\">True</text>\n",
       "</g>\n",
       "<!-- 12 -->\n",
       "<g id=\"node9\" class=\"node\">\n",
       "<title>12</title>\n",
       "<path fill=\"#65b3eb\" stroke=\"black\" d=\"M447.5,-425C447.5,-425 324.5,-425 324.5,-425 318.5,-425 312.5,-419 312.5,-413 312.5,-413 312.5,-354 312.5,-354 312.5,-348 318.5,-342 324.5,-342 324.5,-342 447.5,-342 447.5,-342 453.5,-342 459.5,-348 459.5,-354 459.5,-354 459.5,-413 459.5,-413 459.5,-419 453.5,-425 447.5,-425\"/>\n",
       "<text text-anchor=\"middle\" x=\"386\" y=\"-409.8\" font-family=\"Helvetica,sans-Serif\" font-size=\"14.00\">num(&lt;z&gt;) &lt;= 842.5</text>\n",
       "<text text-anchor=\"middle\" x=\"386\" y=\"-394.8\" font-family=\"Helvetica,sans-Serif\" font-size=\"14.00\">gini = 0.297</text>\n",
       "<text text-anchor=\"middle\" x=\"386\" y=\"-379.8\" font-family=\"Helvetica,sans-Serif\" font-size=\"14.00\">samples = 78</text>\n",
       "<text text-anchor=\"middle\" x=\"386\" y=\"-364.8\" font-family=\"Helvetica,sans-Serif\" font-size=\"14.00\">value = [0.167, 0.752]</text>\n",
       "<text text-anchor=\"middle\" x=\"386\" y=\"-349.8\" font-family=\"Helvetica,sans-Serif\" font-size=\"14.00\">class = NO_BUG</text>\n",
       "</g>\n",
       "<!-- 0&#45;&gt;12 -->\n",
       "<g id=\"edge8\" class=\"edge\">\n",
       "<title>0&#45;&gt;12</title>\n",
       "<path fill=\"none\" stroke=\"black\" d=\"M332.03,-460.58C338,-452.16 344.36,-443.2 350.53,-434.5\"/>\n",
       "<polygon fill=\"black\" stroke=\"black\" points=\"353.32,-436.62 356.25,-426.43 347.61,-432.57 353.32,-436.62\"/>\n",
       "<text text-anchor=\"middle\" x=\"361.32\" y=\"-446.15\" font-family=\"Helvetica,sans-Serif\" font-size=\"14.00\">False</text>\n",
       "</g>\n",
       "<!-- 2 -->\n",
       "<g id=\"node3\" class=\"node\">\n",
       "<title>2</title>\n",
       "<path fill=\"#399de5\" stroke=\"black\" d=\"M120,-298.5C120,-298.5 12,-298.5 12,-298.5 6,-298.5 0,-292.5 0,-286.5 0,-286.5 0,-242.5 0,-242.5 0,-236.5 6,-230.5 12,-230.5 12,-230.5 120,-230.5 120,-230.5 126,-230.5 132,-236.5 132,-242.5 132,-242.5 132,-286.5 132,-286.5 132,-292.5 126,-298.5 120,-298.5\"/>\n",
       "<text text-anchor=\"middle\" x=\"66\" y=\"-283.3\" font-family=\"Helvetica,sans-Serif\" font-size=\"14.00\">gini = 0.0</text>\n",
       "<text text-anchor=\"middle\" x=\"66\" y=\"-268.3\" font-family=\"Helvetica,sans-Serif\" font-size=\"14.00\">samples = 11</text>\n",
       "<text text-anchor=\"middle\" x=\"66\" y=\"-253.3\" font-family=\"Helvetica,sans-Serif\" font-size=\"14.00\">value = [0.0, 0.109]</text>\n",
       "<text text-anchor=\"middle\" x=\"66\" y=\"-238.3\" font-family=\"Helvetica,sans-Serif\" font-size=\"14.00\">class = NO_BUG</text>\n",
       "</g>\n",
       "<!-- 1&#45;&gt;2 -->\n",
       "<g id=\"edge2\" class=\"edge\">\n",
       "<title>1&#45;&gt;2</title>\n",
       "<path fill=\"none\" stroke=\"black\" d=\"M166.79,-341.58C151.32,-329.9 134.48,-317.19 119.08,-305.57\"/>\n",
       "<polygon fill=\"black\" stroke=\"black\" points=\"121.49,-303 111.4,-299.77 117.28,-308.59 121.49,-303\"/>\n",
       "</g>\n",
       "<!-- 3 -->\n",
       "<g id=\"node4\" class=\"node\">\n",
       "<title>3</title>\n",
       "<path fill=\"#e9965a\" stroke=\"black\" d=\"M285.5,-306C285.5,-306 162.5,-306 162.5,-306 156.5,-306 150.5,-300 150.5,-294 150.5,-294 150.5,-235 150.5,-235 150.5,-229 156.5,-223 162.5,-223 162.5,-223 285.5,-223 285.5,-223 291.5,-223 297.5,-229 297.5,-235 297.5,-235 297.5,-294 297.5,-294 297.5,-300 291.5,-306 285.5,-306\"/>\n",
       "<text text-anchor=\"middle\" x=\"224\" y=\"-290.8\" font-family=\"Helvetica,sans-Serif\" font-size=\"14.00\">num(&lt;x&gt;) &lt;= 2.5</text>\n",
       "<text text-anchor=\"middle\" x=\"224\" y=\"-275.8\" font-family=\"Helvetica,sans-Serif\" font-size=\"14.00\">gini = 0.245</text>\n",
       "<text text-anchor=\"middle\" x=\"224\" y=\"-260.8\" font-family=\"Helvetica,sans-Serif\" font-size=\"14.00\">samples = 24</text>\n",
       "<text text-anchor=\"middle\" x=\"224\" y=\"-245.8\" font-family=\"Helvetica,sans-Serif\" font-size=\"14.00\">value = [0.833, 0.139]</text>\n",
       "<text text-anchor=\"middle\" x=\"224\" y=\"-230.8\" font-family=\"Helvetica,sans-Serif\" font-size=\"14.00\">class = BUG</text>\n",
       "</g>\n",
       "<!-- 1&#45;&gt;3 -->\n",
       "<g id=\"edge3\" class=\"edge\">\n",
       "<title>1&#45;&gt;3</title>\n",
       "<path fill=\"none\" stroke=\"black\" d=\"M222.05,-341.58C222.25,-333.79 222.46,-325.53 222.67,-317.45\"/>\n",
       "<polygon fill=\"black\" stroke=\"black\" points=\"226.16,-317.8 222.92,-307.71 219.16,-317.62 226.16,-317.8\"/>\n",
       "</g>\n",
       "<!-- 4 -->\n",
       "<g id=\"node5\" class=\"node\">\n",
       "<title>4</title>\n",
       "<path fill=\"#399de5\" stroke=\"black\" d=\"M160,-179.5C160,-179.5 52,-179.5 52,-179.5 46,-179.5 40,-173.5 40,-167.5 40,-167.5 40,-123.5 40,-123.5 40,-117.5 46,-111.5 52,-111.5 52,-111.5 160,-111.5 160,-111.5 166,-111.5 172,-117.5 172,-123.5 172,-123.5 172,-167.5 172,-167.5 172,-173.5 166,-179.5 160,-179.5\"/>\n",
       "<text text-anchor=\"middle\" x=\"106\" y=\"-164.3\" font-family=\"Helvetica,sans-Serif\" font-size=\"14.00\">gini = 0.0</text>\n",
       "<text text-anchor=\"middle\" x=\"106\" y=\"-149.3\" font-family=\"Helvetica,sans-Serif\" font-size=\"14.00\">samples = 8</text>\n",
       "<text text-anchor=\"middle\" x=\"106\" y=\"-134.3\" font-family=\"Helvetica,sans-Serif\" font-size=\"14.00\">value = [0.0, 0.079]</text>\n",
       "<text text-anchor=\"middle\" x=\"106\" y=\"-119.3\" font-family=\"Helvetica,sans-Serif\" font-size=\"14.00\">class = NO_BUG</text>\n",
       "</g>\n",
       "<!-- 3&#45;&gt;4 -->\n",
       "<g id=\"edge4\" class=\"edge\">\n",
       "<title>3&#45;&gt;4</title>\n",
       "<path fill=\"none\" stroke=\"black\" d=\"M182.73,-222.58C171.39,-211.34 159.09,-199.14 147.73,-187.87\"/>\n",
       "<polygon fill=\"black\" stroke=\"black\" points=\"150.29,-185.48 140.72,-180.93 145.36,-190.45 150.29,-185.48\"/>\n",
       "</g>\n",
       "<!-- 5 -->\n",
       "<g id=\"node6\" class=\"node\">\n",
       "<title>5</title>\n",
       "<path fill=\"#e78a47\" stroke=\"black\" d=\"M325.5,-187C325.5,-187 202.5,-187 202.5,-187 196.5,-187 190.5,-181 190.5,-175 190.5,-175 190.5,-116 190.5,-116 190.5,-110 196.5,-104 202.5,-104 202.5,-104 325.5,-104 325.5,-104 331.5,-104 337.5,-110 337.5,-116 337.5,-116 337.5,-175 337.5,-175 337.5,-181 331.5,-187 325.5,-187\"/>\n",
       "<text text-anchor=\"middle\" x=\"264\" y=\"-171.8\" font-family=\"Helvetica,sans-Serif\" font-size=\"14.00\">num(&lt;x&gt;) &lt;= 525.0</text>\n",
       "<text text-anchor=\"middle\" x=\"264\" y=\"-156.8\" font-family=\"Helvetica,sans-Serif\" font-size=\"14.00\">gini = 0.124</text>\n",
       "<text text-anchor=\"middle\" x=\"264\" y=\"-141.8\" font-family=\"Helvetica,sans-Serif\" font-size=\"14.00\">samples = 16</text>\n",
       "<text text-anchor=\"middle\" x=\"264\" y=\"-126.8\" font-family=\"Helvetica,sans-Serif\" font-size=\"14.00\">value = [0.833, 0.059]</text>\n",
       "<text text-anchor=\"middle\" x=\"264\" y=\"-111.8\" font-family=\"Helvetica,sans-Serif\" font-size=\"14.00\">class = BUG</text>\n",
       "</g>\n",
       "<!-- 3&#45;&gt;5 -->\n",
       "<g id=\"edge5\" class=\"edge\">\n",
       "<title>3&#45;&gt;5</title>\n",
       "<path fill=\"none\" stroke=\"black\" d=\"M237.99,-222.58C240.72,-214.61 243.61,-206.15 246.43,-197.89\"/>\n",
       "<polygon fill=\"black\" stroke=\"black\" points=\"249.67,-199.23 249.6,-188.63 243.05,-196.96 249.67,-199.23\"/>\n",
       "</g>\n",
       "<!-- 6 -->\n",
       "<g id=\"node7\" class=\"node\">\n",
       "<title>6</title>\n",
       "<path fill=\"#e68540\" stroke=\"black\" d=\"M211,-68C211,-68 95,-68 95,-68 89,-68 83,-62 83,-56 83,-56 83,-12 83,-12 83,-6 89,0 95,0 95,0 211,0 211,0 217,0 223,-6 223,-12 223,-12 223,-56 223,-56 223,-62 217,-68 211,-68\"/>\n",
       "<text text-anchor=\"middle\" x=\"153\" y=\"-52.8\" font-family=\"Helvetica,sans-Serif\" font-size=\"14.00\">gini = 0.066</text>\n",
       "<text text-anchor=\"middle\" x=\"153\" y=\"-37.8\" font-family=\"Helvetica,sans-Serif\" font-size=\"14.00\">samples = 13</text>\n",
       "<text text-anchor=\"middle\" x=\"153\" y=\"-22.8\" font-family=\"Helvetica,sans-Serif\" font-size=\"14.00\">value = [0.833, 0.03]</text>\n",
       "<text text-anchor=\"middle\" x=\"153\" y=\"-7.8\" font-family=\"Helvetica,sans-Serif\" font-size=\"14.00\">class = BUG</text>\n",
       "</g>\n",
       "<!-- 5&#45;&gt;6 -->\n",
       "<g id=\"edge6\" class=\"edge\">\n",
       "<title>5&#45;&gt;6</title>\n",
       "<path fill=\"none\" stroke=\"black\" d=\"M222.67,-103.73C213.61,-94.79 204.01,-85.32 194.92,-76.36\"/>\n",
       "<polygon fill=\"black\" stroke=\"black\" points=\"197.41,-73.89 187.83,-69.36 192.49,-78.88 197.41,-73.89\"/>\n",
       "</g>\n",
       "<!-- 9 -->\n",
       "<g id=\"node8\" class=\"node\">\n",
       "<title>9</title>\n",
       "<path fill=\"#399de5\" stroke=\"black\" d=\"M354.5,-68C354.5,-68 253.5,-68 253.5,-68 247.5,-68 241.5,-62 241.5,-56 241.5,-56 241.5,-12 241.5,-12 241.5,-6 247.5,0 253.5,0 253.5,0 354.5,0 354.5,0 360.5,0 366.5,-6 366.5,-12 366.5,-12 366.5,-56 366.5,-56 366.5,-62 360.5,-68 354.5,-68\"/>\n",
       "<text text-anchor=\"middle\" x=\"304\" y=\"-52.8\" font-family=\"Helvetica,sans-Serif\" font-size=\"14.00\">gini = 0.0</text>\n",
       "<text text-anchor=\"middle\" x=\"304\" y=\"-37.8\" font-family=\"Helvetica,sans-Serif\" font-size=\"14.00\">samples = 3</text>\n",
       "<text text-anchor=\"middle\" x=\"304\" y=\"-22.8\" font-family=\"Helvetica,sans-Serif\" font-size=\"14.00\">value = [0.0, 0.03]</text>\n",
       "<text text-anchor=\"middle\" x=\"304\" y=\"-7.8\" font-family=\"Helvetica,sans-Serif\" font-size=\"14.00\">class = NO_BUG</text>\n",
       "</g>\n",
       "<!-- 5&#45;&gt;9 -->\n",
       "<g id=\"edge7\" class=\"edge\">\n",
       "<title>5&#45;&gt;9</title>\n",
       "<path fill=\"none\" stroke=\"black\" d=\"M278.89,-103.73C281.83,-95.7 284.92,-87.24 287.89,-79.11\"/>\n",
       "<polygon fill=\"black\" stroke=\"black\" points=\"291.17,-80.32 291.32,-69.72 284.6,-77.91 291.17,-80.32\"/>\n",
       "</g>\n",
       "<!-- 13 -->\n",
       "<g id=\"node10\" class=\"node\">\n",
       "<title>13</title>\n",
       "<path fill=\"#399de5\" stroke=\"black\" d=\"M438,-298.5C438,-298.5 330,-298.5 330,-298.5 324,-298.5 318,-292.5 318,-286.5 318,-286.5 318,-242.5 318,-242.5 318,-236.5 324,-230.5 330,-230.5 330,-230.5 438,-230.5 438,-230.5 444,-230.5 450,-236.5 450,-242.5 450,-242.5 450,-286.5 450,-286.5 450,-292.5 444,-298.5 438,-298.5\"/>\n",
       "<text text-anchor=\"middle\" x=\"384\" y=\"-283.3\" font-family=\"Helvetica,sans-Serif\" font-size=\"14.00\">gini = 0.0</text>\n",
       "<text text-anchor=\"middle\" x=\"384\" y=\"-268.3\" font-family=\"Helvetica,sans-Serif\" font-size=\"14.00\">samples = 72</text>\n",
       "<text text-anchor=\"middle\" x=\"384\" y=\"-253.3\" font-family=\"Helvetica,sans-Serif\" font-size=\"14.00\">value = [0.0, 0.713]</text>\n",
       "<text text-anchor=\"middle\" x=\"384\" y=\"-238.3\" font-family=\"Helvetica,sans-Serif\" font-size=\"14.00\">class = NO_BUG</text>\n",
       "</g>\n",
       "<!-- 12&#45;&gt;13 -->\n",
       "<g id=\"edge9\" class=\"edge\">\n",
       "<title>12&#45;&gt;13</title>\n",
       "<path fill=\"none\" stroke=\"black\" d=\"M385.3,-341.58C385.13,-331.43 384.94,-320.5 384.76,-310.18\"/>\n",
       "<polygon fill=\"black\" stroke=\"black\" points=\"388.27,-310.31 384.6,-300.37 381.27,-310.43 388.27,-310.31\"/>\n",
       "</g>\n",
       "<!-- 14 -->\n",
       "<g id=\"node11\" class=\"node\">\n",
       "<title>14</title>\n",
       "<path fill=\"#eb9f68\" stroke=\"black\" d=\"M632,-306C632,-306 480,-306 480,-306 474,-306 468,-300 468,-294 468,-294 468,-235 468,-235 468,-229 474,-223 480,-223 480,-223 632,-223 632,-223 638,-223 644,-229 644,-235 644,-235 644,-294 644,-294 644,-300 638,-306 632,-306\"/>\n",
       "<text text-anchor=\"middle\" x=\"556\" y=\"-290.8\" font-family=\"Helvetica,sans-Serif\" font-size=\"14.00\">exists(&lt;digit&gt; == 8) &lt;= 0.5</text>\n",
       "<text text-anchor=\"middle\" x=\"556\" y=\"-275.8\" font-family=\"Helvetica,sans-Serif\" font-size=\"14.00\">gini = 0.31</text>\n",
       "<text text-anchor=\"middle\" x=\"556\" y=\"-260.8\" font-family=\"Helvetica,sans-Serif\" font-size=\"14.00\">samples = 6</text>\n",
       "<text text-anchor=\"middle\" x=\"556\" y=\"-245.8\" font-family=\"Helvetica,sans-Serif\" font-size=\"14.00\">value = [0.167, 0.04]</text>\n",
       "<text text-anchor=\"middle\" x=\"556\" y=\"-230.8\" font-family=\"Helvetica,sans-Serif\" font-size=\"14.00\">class = BUG</text>\n",
       "</g>\n",
       "<!-- 12&#45;&gt;14 -->\n",
       "<g id=\"edge10\" class=\"edge\">\n",
       "<title>12&#45;&gt;14</title>\n",
       "<path fill=\"none\" stroke=\"black\" d=\"M445.46,-341.58C458.92,-332.32 473.32,-322.41 487.13,-312.9\"/>\n",
       "<polygon fill=\"black\" stroke=\"black\" points=\"489.08,-315.81 495.33,-307.26 485.11,-310.04 489.08,-315.81\"/>\n",
       "</g>\n",
       "<!-- 15 -->\n",
       "<g id=\"node12\" class=\"node\">\n",
       "<title>15</title>\n",
       "<path fill=\"#e78845\" stroke=\"black\" d=\"M602,-187C602,-187 486,-187 486,-187 480,-187 474,-181 474,-175 474,-175 474,-116 474,-116 474,-110 480,-104 486,-104 486,-104 602,-104 602,-104 608,-104 614,-110 614,-116 614,-116 614,-175 614,-175 614,-181 608,-187 602,-187\"/>\n",
       "<text text-anchor=\"middle\" x=\"544\" y=\"-171.8\" font-family=\"Helvetica,sans-Serif\" font-size=\"14.00\">len(&lt;x&gt;) &lt;= 2.0</text>\n",
       "<text text-anchor=\"middle\" x=\"544\" y=\"-156.8\" font-family=\"Helvetica,sans-Serif\" font-size=\"14.00\">gini = 0.106</text>\n",
       "<text text-anchor=\"middle\" x=\"544\" y=\"-141.8\" font-family=\"Helvetica,sans-Serif\" font-size=\"14.00\">samples = 3</text>\n",
       "<text text-anchor=\"middle\" x=\"544\" y=\"-126.8\" font-family=\"Helvetica,sans-Serif\" font-size=\"14.00\">value = [0.167, 0.01]</text>\n",
       "<text text-anchor=\"middle\" x=\"544\" y=\"-111.8\" font-family=\"Helvetica,sans-Serif\" font-size=\"14.00\">class = BUG</text>\n",
       "</g>\n",
       "<!-- 14&#45;&gt;15 -->\n",
       "<g id=\"edge11\" class=\"edge\">\n",
       "<title>14&#45;&gt;15</title>\n",
       "<path fill=\"none\" stroke=\"black\" d=\"M551.8,-222.58C551,-214.79 550.16,-206.53 549.33,-198.45\"/>\n",
       "<polygon fill=\"black\" stroke=\"black\" points=\"552.83,-198.3 548.33,-188.71 545.87,-199.01 552.83,-198.3\"/>\n",
       "</g>\n",
       "<!-- 18 -->\n",
       "<g id=\"node15\" class=\"node\">\n",
       "<title>18</title>\n",
       "<path fill=\"#399de5\" stroke=\"black\" d=\"M745.5,-179.5C745.5,-179.5 644.5,-179.5 644.5,-179.5 638.5,-179.5 632.5,-173.5 632.5,-167.5 632.5,-167.5 632.5,-123.5 632.5,-123.5 632.5,-117.5 638.5,-111.5 644.5,-111.5 644.5,-111.5 745.5,-111.5 745.5,-111.5 751.5,-111.5 757.5,-117.5 757.5,-123.5 757.5,-123.5 757.5,-167.5 757.5,-167.5 757.5,-173.5 751.5,-179.5 745.5,-179.5\"/>\n",
       "<text text-anchor=\"middle\" x=\"695\" y=\"-164.3\" font-family=\"Helvetica,sans-Serif\" font-size=\"14.00\">gini = 0.0</text>\n",
       "<text text-anchor=\"middle\" x=\"695\" y=\"-149.3\" font-family=\"Helvetica,sans-Serif\" font-size=\"14.00\">samples = 3</text>\n",
       "<text text-anchor=\"middle\" x=\"695\" y=\"-134.3\" font-family=\"Helvetica,sans-Serif\" font-size=\"14.00\">value = [0.0, 0.03]</text>\n",
       "<text text-anchor=\"middle\" x=\"695\" y=\"-119.3\" font-family=\"Helvetica,sans-Serif\" font-size=\"14.00\">class = NO_BUG</text>\n",
       "</g>\n",
       "<!-- 14&#45;&gt;18 -->\n",
       "<g id=\"edge14\" class=\"edge\">\n",
       "<title>14&#45;&gt;18</title>\n",
       "<path fill=\"none\" stroke=\"black\" d=\"M604.62,-222.58C618.23,-211.12 633.02,-198.67 646.62,-187.22\"/>\n",
       "<polygon fill=\"black\" stroke=\"black\" points=\"648.81,-189.95 654.21,-180.84 644.3,-184.6 648.81,-189.95\"/>\n",
       "</g>\n",
       "<!-- 16 -->\n",
       "<g id=\"node13\" class=\"node\">\n",
       "<title>16</title>\n",
       "<path fill=\"#399de5\" stroke=\"black\" d=\"M520.5,-68C520.5,-68 419.5,-68 419.5,-68 413.5,-68 407.5,-62 407.5,-56 407.5,-56 407.5,-12 407.5,-12 407.5,-6 413.5,0 419.5,0 419.5,0 520.5,0 520.5,0 526.5,0 532.5,-6 532.5,-12 532.5,-12 532.5,-56 532.5,-56 532.5,-62 526.5,-68 520.5,-68\"/>\n",
       "<text text-anchor=\"middle\" x=\"470\" y=\"-52.8\" font-family=\"Helvetica,sans-Serif\" font-size=\"14.00\">gini = 0.0</text>\n",
       "<text text-anchor=\"middle\" x=\"470\" y=\"-37.8\" font-family=\"Helvetica,sans-Serif\" font-size=\"14.00\">samples = 1</text>\n",
       "<text text-anchor=\"middle\" x=\"470\" y=\"-22.8\" font-family=\"Helvetica,sans-Serif\" font-size=\"14.00\">value = [0.0, 0.01]</text>\n",
       "<text text-anchor=\"middle\" x=\"470\" y=\"-7.8\" font-family=\"Helvetica,sans-Serif\" font-size=\"14.00\">class = NO_BUG</text>\n",
       "</g>\n",
       "<!-- 15&#45;&gt;16 -->\n",
       "<g id=\"edge12\" class=\"edge\">\n",
       "<title>15&#45;&gt;16</title>\n",
       "<path fill=\"none\" stroke=\"black\" d=\"M516.45,-103.73C510.71,-95.24 504.66,-86.28 498.88,-77.73\"/>\n",
       "<polygon fill=\"black\" stroke=\"black\" points=\"501.85,-75.88 493.35,-69.55 496.05,-79.8 501.85,-75.88\"/>\n",
       "</g>\n",
       "<!-- 17 -->\n",
       "<g id=\"node14\" class=\"node\">\n",
       "<title>17</title>\n",
       "<path fill=\"#e58139\" stroke=\"black\" d=\"M671,-68C671,-68 563,-68 563,-68 557,-68 551,-62 551,-56 551,-56 551,-12 551,-12 551,-6 557,0 563,0 563,0 671,0 671,0 677,0 683,-6 683,-12 683,-12 683,-56 683,-56 683,-62 677,-68 671,-68\"/>\n",
       "<text text-anchor=\"middle\" x=\"617\" y=\"-52.8\" font-family=\"Helvetica,sans-Serif\" font-size=\"14.00\">gini = &#45;0.0</text>\n",
       "<text text-anchor=\"middle\" x=\"617\" y=\"-37.8\" font-family=\"Helvetica,sans-Serif\" font-size=\"14.00\">samples = 2</text>\n",
       "<text text-anchor=\"middle\" x=\"617\" y=\"-22.8\" font-family=\"Helvetica,sans-Serif\" font-size=\"14.00\">value = [0.167, 0.0]</text>\n",
       "<text text-anchor=\"middle\" x=\"617\" y=\"-7.8\" font-family=\"Helvetica,sans-Serif\" font-size=\"14.00\">class = BUG</text>\n",
       "</g>\n",
       "<!-- 15&#45;&gt;17 -->\n",
       "<g id=\"edge13\" class=\"edge\">\n",
       "<title>15&#45;&gt;17</title>\n",
       "<path fill=\"none\" stroke=\"black\" d=\"M571.18,-103.73C576.84,-95.24 582.81,-86.28 588.51,-77.73\"/>\n",
       "<polygon fill=\"black\" stroke=\"black\" points=\"591.33,-79.82 593.96,-69.56 585.5,-75.94 591.33,-79.82\"/>\n",
       "</g>\n",
       "</g>\n",
       "</svg>\n"
      ],
      "text/plain": [
       "<graphviz.sources.Source at 0x1369850f0>"
      ]
     },
     "execution_count": 11,
     "metadata": {},
     "output_type": "execute_result"
    }
   ],
   "source": [
    "from alhazen import Alhazen\n",
    "\n",
    "alhazen = Alhazen(\n",
    "    grammar=grammar,\n",
    "    initial_inputs=[\"3, 1, 4\", \"3, 2, 1\"],\n",
    "    evaluation_function=test_dummy\n",
    ")\n",
    "\n",
    "trees = alhazen.run()\n",
    "alhazen.show_model()"
   ]
  },
  {
   "cell_type": "markdown",
   "source": [
    "## Avicenna"
   ],
   "metadata": {
    "collapsed": false,
    "pycharm": {
     "name": "#%% md\n"
    }
   }
  },
  {
   "cell_type": "code",
   "execution_count": null,
   "outputs": [],
   "source": [
    "# TODO"
   ],
   "metadata": {
    "collapsed": false,
    "pycharm": {
     "name": "#%%\n"
    }
   }
  },
  {
   "cell_type": "code",
   "execution_count": 12,
   "metadata": {
    "pycharm": {
     "name": "#%%\n"
    }
   },
   "outputs": [],
   "source": [
    "# TODO"
   ]
  }
 ],
 "metadata": {
  "kernelspec": {
   "display_name": "Python 3 (ipykernel)",
   "language": "python",
   "name": "python3"
  },
  "language_info": {
   "codemirror_mode": {
    "name": "ipython",
    "version": 3
   },
   "file_extension": ".py",
   "mimetype": "text/x-python",
   "name": "python",
   "nbconvert_exporter": "python",
   "pygments_lexer": "ipython3",
   "version": "3.10.9"
  }
 },
 "nbformat": 4,
 "nbformat_minor": 1
}