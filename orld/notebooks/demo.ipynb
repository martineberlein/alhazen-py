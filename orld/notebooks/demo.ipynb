{
 "cells": [
  {
   "cell_type": "code",
   "execution_count": null,
   "metadata": {
    "collapsed": true,
    "pycharm": {
     "name": "#%%\n"
    }
   },
   "outputs": [],
   "source": [
    "from alhazen import Alhazen\n",
    "\n",
    "from alhazen_formalizations.calculator import initial_inputs, grammar_alhazen as grammar, prop\n",
    "from alhazen.helper import show_tree"
   ]
  },
  {
   "cell_type": "code",
   "execution_count": null,
   "outputs": [],
   "source": [
    "MAX_ITERATION = 30\n",
    "alhazen = Alhazen(\n",
    "    initial_inputs=initial_inputs,\n",
    "    grammar=grammar,\n",
    "    evaluation_function=prop,\n",
    "    max_iter=MAX_ITERATION\n",
    ")\n",
    "trees = alhazen.run()"
   ],
   "metadata": {
    "collapsed": false,
    "pycharm": {
     "name": "#%%\n"
    }
   }
  },
  {
   "cell_type": "code",
   "execution_count": null,
   "outputs": [],
   "source": [
    "from alhazen.feature_collector import Collector\n",
    "collector = Collector(grammar=grammar)\n",
    "\n",
    "show_tree(trees[MAX_ITERATION-1], alhazen._all_features)"
   ],
   "metadata": {
    "collapsed": false,
    "pycharm": {
     "name": "#%%\n"
    }
   }
  }
 ],
 "metadata": {
  "kernelspec": {
   "display_name": "Python 3",
   "language": "python",
   "name": "python3"
  },
  "language_info": {
   "codemirror_mode": {
    "name": "ipython",
    "version": 2
   },
   "file_extension": ".py",
   "mimetype": "text/x-python",
   "name": "python",
   "nbconvert_exporter": "python",
   "pygments_lexer": "ipython2",
   "version": "2.7.6"
  }
 },
 "nbformat": 4,
 "nbformat_minor": 0
}