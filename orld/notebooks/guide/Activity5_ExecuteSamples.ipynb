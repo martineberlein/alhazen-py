{
 "cells": [
  {
   "cell_type": "markdown",
   "id": "5f484da5",
   "metadata": {
    "pycharm": {
     "name": "#%% md\n"
    }
   },
   "source": [
    "# Executing Inpt Files\n",
    "\n",
    "This notebook contains the functionallity to execute the calculator subject with a list of input samples."
   ]
  },
  {
   "cell_type": "markdown",
   "id": "6f1fe29a",
   "metadata": {
    "pycharm": {
     "name": "#%% md\n"
    }
   },
   "source": [
    "<div class=\"alert alert-info\">\n",
    "[Info]: This notebook does not contain any tasks for you, however, it can be usefull to get a better understanding of the 'execute_samples(sample_list)' function.\n",
    "</div>\n",
    "<hr/>"
   ]
  },
  {
   "cell_type": "markdown",
   "id": "de14a022",
   "metadata": {
    "pycharm": {
     "name": "#%% md\n"
    }
   },
   "source": [
    "We start by importing the oracle/label definition from the utility notebook:"
   ]
  },
  {
   "cell_type": "code",
   "execution_count": null,
   "id": "e6ffb32e",
   "metadata": {
    "pycharm": {
     "name": "#%%\n"
    }
   },
   "outputs": [],
   "source": [
    "from ipynb.fs.full.helper import OracleResult"
   ]
  },
  {
   "cell_type": "markdown",
   "id": "8ddbf51e",
   "metadata": {
    "pycharm": {
     "name": "#%% md\n"
    }
   },
   "source": [
    "Next we implement the function `sample_runner(sample)` that lets us execute the calculator for a single sample. `sample_runner(sample)` returns the, in the pervious step imported, `OracleResult` for the sample."
   ]
  },
  {
   "cell_type": "code",
   "execution_count": null,
   "id": "04b13bb4",
   "metadata": {
    "pycharm": {
     "name": "#%%\n"
    }
   },
   "outputs": [],
   "source": [
    "import pandas\n",
    "\n",
    "# load the calculator as task\n",
    "import orld.notebooks.guide.src.task_heartbleed as task\n",
    "\n",
    "SUBJECT = \"calculator\"\n",
    "\n",
    "def sample_runner(sample):    \n",
    "    testcode = sample\n",
    "    \n",
    "    try:\n",
    "        # exec(testcode, {\"porb\": task.sqrt, \"tan\": task.tan, \"sin\": task.sin, \"cos\": task.cos}, {})\n",
    "        result = task.prob(sample)\n",
    "        if result is True:\n",
    "            return OracleResult.NO_BUG\n",
    "        else:\n",
    "            return OracleResult.BUG\n",
    "        \n",
    "        return OracleResult.NO_BUG\n",
    "    except ZeroDivisionError:\n",
    "        return OracleResult.BUG\n",
    "    except:\n",
    "        return OracleResult.UNDEF"
   ]
  },
  {
   "cell_type": "markdown",
   "id": "97ca234f",
   "metadata": {
    "pycharm": {
     "name": "#%% md\n"
    }
   },
   "source": [
    "Let's test the function:"
   ]
  },
  {
   "cell_type": "code",
   "execution_count": null,
   "id": "94ec0845",
   "metadata": {
    "pycharm": {
     "name": "#%%\n"
    }
   },
   "outputs": [],
   "source": [
    "sample = \"sqrt(-16)\"\n",
    "sample_runner(sample)"
   ]
  },
  {
   "cell_type": "markdown",
   "id": "11da0cf0",
   "metadata": {
    "pycharm": {
     "name": "#%% md\n"
    }
   },
   "source": [
    "As expected, the sample `sqrt(-16)` triggers the calculator bug. Let's try some more samples:"
   ]
  },
  {
   "cell_type": "code",
   "execution_count": null,
   "id": "cba6fb4d",
   "metadata": {
    "pycharm": {
     "name": "#%%\n"
    }
   },
   "outputs": [],
   "source": [
    "assert sample_runner(\"sqrt(-23)\") == OracleResult.BUG\n",
    "assert sample_runner(\"sqrt(44)\") == OracleResult.NO_BUG\n",
    "assert sample_runner(\"cos(-9)\") == OracleResult.NO_BUG"
   ]
  },
  {
   "cell_type": "markdown",
   "id": "70ebaa6a",
   "metadata": {
    "pycharm": {
     "name": "#%% md\n"
    }
   },
   "source": [
    "<hr/>\n",
    "What happens if we parse inputs to calculator, that do not conform to its input format?"
   ]
  },
  {
   "cell_type": "code",
   "execution_count": null,
   "id": "5d5d6a35",
   "metadata": {
    "pycharm": {
     "name": "#%%\n"
    }
   },
   "outputs": [],
   "source": [
    "sample_runner(\"undef_function(QUERY)\")"
   ]
  },
  {
   "cell_type": "markdown",
   "id": "318df329",
   "metadata": {
    "pycharm": {
     "name": "#%% md\n"
    }
   },
   "source": [
    "The function `sample_runner(sample)` returns an `OracleResult.UNDEF` whenever the runner is not able to execute the sample."
   ]
  },
  {
   "cell_type": "markdown",
   "id": "4735011f",
   "metadata": {
    "pycharm": {
     "name": "#%% md\n"
    }
   },
   "source": [
    "<div class=\"alert alert-danger\" role=\"alert\">\n",
    "To work reliably, you have to remove all samples from the learning set of Alhazen that do not conform to the grammar. \n",
    "</div>"
   ]
  },
  {
   "cell_type": "markdown",
   "id": "75f7d6bf",
   "metadata": {
    "pycharm": {
     "name": "#%% md\n"
    }
   },
   "source": [
    "<hr/>\n",
    "The finally we provide the function 'execute_samples(sample_list)' that obtians the oracle/label for a list of samples."
   ]
  },
  {
   "cell_type": "code",
   "execution_count": null,
   "id": "dfb9ea2e",
   "metadata": {
    "pycharm": {
     "name": "#%%\n"
    }
   },
   "outputs": [],
   "source": [
    "import uuid\n",
    "\n",
    "# executes a list of samples and return the execution outcome (label)\n",
    "# the functions returns a pandas dataframe\n",
    "def execute_samples(sample_list):\n",
    "    data = []\n",
    "    for sample in sample_list:\n",
    "        id = uuid.uuid1()\n",
    "        result = sample_runner(sample)\n",
    "        data.append({\n",
    "                # \"sample_id\": id.hex,\n",
    "                # \"sample\": sample,\n",
    "                # \"subject\": SUBJECT,\n",
    "                \"oracle\": result\n",
    "        })\n",
    "    return pandas.DataFrame.from_records(data)"
   ]
  },
  {
   "cell_type": "code",
   "execution_count": null,
   "id": "f4896c75",
   "metadata": {
    "pycharm": {
     "name": "#%%\n"
    }
   },
   "outputs": [],
   "source": [
    "# let us define a list of samples to execute\n",
    "sample_list = [\"sqrt(-20)\", \"cos(2)\", \"sqrt(-100)\", \"undef_function(foo)\"]"
   ]
  },
  {
   "cell_type": "code",
   "execution_count": null,
   "id": "69258abb",
   "metadata": {
    "pycharm": {
     "name": "#%%\n"
    }
   },
   "outputs": [],
   "source": [
    "# we obtain the execution outcome\n",
    "labels = execute_samples(sample_list)\n",
    "display(labels)"
   ]
  },
  {
   "cell_type": "code",
   "execution_count": null,
   "id": "b15a5ee1",
   "metadata": {
    "pycharm": {
     "name": "#%%\n"
    }
   },
   "outputs": [],
   "source": [
    "# combine with the sample_list\n",
    "for i, row in enumerate(labels['oracle']): print(sample_list[i].ljust(30) + str(row))"
   ]
  },
  {
   "cell_type": "markdown",
   "id": "5880843d",
   "metadata": {
    "pycharm": {
     "name": "#%% md\n"
    }
   },
   "source": [
    "To remove the undefined input samples, you could invoke something similar to this:"
   ]
  },
  {
   "cell_type": "code",
   "execution_count": null,
   "id": "58e0716f",
   "metadata": {
    "pycharm": {
     "name": "#%%\n"
    }
   },
   "outputs": [],
   "source": [
    "# clean up data\n",
    "clean_data = labels.drop(labels[labels.oracle.astype(str) == \"UNDEF\"].index)\n",
    "display(clean_data)"
   ]
  },
  {
   "cell_type": "code",
   "execution_count": null,
   "id": "a145456b",
   "metadata": {
    "pycharm": {
     "name": "#%%\n"
    }
   },
   "outputs": [],
   "source": [
    "positive_inputs = [\"6 x3 y13\", \"125 x4 y\", \"6512 x10 y2\", \"7992 x66 y39337874\"]\n",
    "negative_inputs = [\"0 x875611395 y3\", \"12 x123456789101 y3\"]\n",
    "\n",
    "sample_list = positive_inputs + negative_inputs\n",
    "labels = execute_samples(sample_list)\n",
    "display(labels)"
   ]
  },
  {
   "cell_type": "code",
   "execution_count": null,
   "id": "822a9fb2",
   "metadata": {
    "pycharm": {
     "name": "#%%\n"
    }
   },
   "outputs": [],
   "source": []
  }
 ],
 "metadata": {
  "kernelspec": {
   "display_name": "Python 3 (ipykernel)",
   "language": "python",
   "name": "python3"
  },
  "language_info": {
   "codemirror_mode": {
    "name": "ipython",
    "version": 3
   },
   "file_extension": ".py",
   "mimetype": "text/x-python",
   "name": "python",
   "nbconvert_exporter": "python",
   "pygments_lexer": "ipython3",
   "version": "3.10.4"
  }
 },
 "nbformat": 4,
 "nbformat_minor": 5
}
