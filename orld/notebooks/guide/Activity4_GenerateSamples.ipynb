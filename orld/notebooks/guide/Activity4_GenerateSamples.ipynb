{
 "cells": [
  {
   "cell_type": "markdown",
   "id": "557e57dd",
   "metadata": {
    "pycharm": {
     "name": "#%% md\n"
    }
   },
   "source": [
    "# Activity 4: Generate New Samples from the Decision Tree and the learned Features"
   ]
  },
  {
   "cell_type": "markdown",
   "id": "9f44dd66",
   "metadata": {
    "pycharm": {
     "name": "#%% md\n"
    }
   },
   "source": [
    "<div class=\"alert alert-success alertsuccess\">\n",
    "[Task] Implement the function <i>generate_samples(grammar, new_input_specifications, timeout)</i>, that generates a set of new inputs to refine or refute the hypothesis of the decision tree.\n",
    "</div>"
   ]
  },
  {
   "cell_type": "markdown",
   "id": "1deab3c2",
   "metadata": {
    "pycharm": {
     "name": "#%% md\n"
    }
   },
   "source": [
    "Please implement a _Grammar-Based Input Generator_ that generates new input samples from a List of `Input Specifications`. The Input Specifications are extracted from the decision tree boundaries in the previous Activity 3: _RequirementExtraction_. A Input Specification consists of **1 to n** many predicates or requirements (e.g. feature '>=' value, or 'num(term) <= 13'). Your task is to generate a new input for each InputSpecification. The new input must fulfill all the given requirements of an IputSpecification."
   ]
  },
  {
   "cell_type": "markdown",
   "id": "2854e0bd",
   "metadata": {
    "pycharm": {
     "name": "#%% md\n"
    }
   },
   "source": [
    "<div class=\"alert alert-info\">\n",
    "[Info]: For furter details, please refer to <b>Section 4.4 and 4.5</b> of the <a href=\"https://publications.cispa.saarland/3107/7/fse2020-alhazen.pdf\">paper</a> and the Chapter <b><a href=\"https://www.fuzzingbook.org/html/GrammarFuzzer.html\">Efficient Grammar Fuzzing</a></b> in the fuzzingbook.\n",
    "</div>"
   ]
  },
  {
   "cell_type": "markdown",
   "id": "0a5c092c",
   "metadata": {
    "pycharm": {
     "name": "#%% md\n"
    }
   },
   "source": [
    "```python\n",
    "\n",
    "def generate_samples(grammar: Grammar,\n",
    "                     new_input_specifications: List[InputSpecification],\n",
    "                     timeout: int) -> List[str]\n",
    "\n",
    "```"
   ]
  },
  {
   "cell_type": "markdown",
   "id": "9adf2ece",
   "metadata": {
    "pycharm": {
     "name": "#%% md\n"
    }
   },
   "source": [
    "**INPUT**:\n",
    "the function requires the following input parameter:\n",
    "- grammar: the grammar this is used to produce new inputs (e.g. the CALCULATOR-Grammar)\n",
    "- new_input_specification: a List of new inputs specifications (List\\[InputSpecification\\])\n",
    "- timeout: a max time budget. Return the generated inputs when the timebudget is exeeded."
   ]
  },
  {
   "cell_type": "markdown",
   "id": "591df56d",
   "metadata": {
    "pycharm": {
     "name": "#%% md\n"
    }
   },
   "source": [
    "**OUTPUT**: the function should return a list of new inputs that are specified by the given input specifications."
   ]
  },
  {
   "cell_type": "markdown",
   "id": "64b313e5",
   "metadata": {
    "pycharm": {
     "name": "#%% md\n"
    }
   },
   "source": [
    "<div class=\"alert alert-info\">\n",
    "[Hint]: You can implement the functionality described in the paper or develop your own method of generating new inputs that fulfill the given input specification. (For instance, you can generate inputs with the grammar and check whether one of the inputs meets one of the input specifications. However, this may not be very efficient and may require a lot of time.)\n",
    "</div>"
   ]
  },
  {
   "cell_type": "markdown",
   "id": "ec9d0bbb",
   "metadata": {
    "pycharm": {
     "name": "#%% md\n"
    }
   },
   "source": [
    "<div class=\"alert alert-danger\" role=\"alert\">\n",
    "The classes Inputspecifications and Requirements require the functionallity of the FeatureExtration. You might want to finish the feature-extraction task first.\n",
    "</div>"
   ]
  },
  {
   "cell_type": "code",
   "execution_count": null,
   "id": "2ad2a0a0",
   "metadata": {
    "pycharm": {
     "name": "#%%\n"
    }
   },
   "outputs": [],
   "source": [
    "from typing import List\n",
    "from fuzzingbook.Grammars import Grammar\n",
    "\n",
    "from ipynb.fs.full.helper import OracleResult, CALC_GRAMMAR, START_SYMBOL\n",
    "from ipynb.fs.full.Activity3_RequirementExtraction import InputSpecification, Requirement"
   ]
  },
  {
   "cell_type": "code",
   "execution_count": null,
   "id": "44ed84b2",
   "metadata": {
    "pycharm": {
     "name": "#%%\n"
    }
   },
   "outputs": [],
   "source": [
    "def generate_samples(grammar: Grammar,\n",
    "                     new_input_specifications: List[InputSpecification],\n",
    "                     timeout: int) -> List[str]:\n",
    "    \n",
    "    # write your code here\n",
    "    raise NotImplementedError(\"Func. generate samples: Function not implemented.\")"
   ]
  },
  {
   "cell_type": "markdown",
   "id": "30e4eb50",
   "metadata": {
    "pycharm": {
     "name": "#%% md\n"
    }
   },
   "source": [
    "Possible solution for the function `generate_samples`:"
   ]
  },
  {
   "cell_type": "code",
   "execution_count": 4,
   "id": "46abd814",
   "metadata": {
    "pycharm": {
     "name": "#%%\n"
    }
   },
   "outputs": [],
   "source": [
    "import time\n",
    "import copy\n",
    "from copy import deepcopy\n",
    "import random\n",
    "from typing import List\n",
    "from itertools import chain\n",
    "\n",
    "from fuzzingbook.Parser import EarleyParser\n",
    "from fuzzingbook.GrammarFuzzer import DerivationTree, all_terminals, Grammar, tree_to_string\n",
    "from fuzzingbook.Grammars import Grammar, nonterminals, opts, is_valid_grammar\n",
    "from fuzzingbook.Grammars import reachable_nonterminals, unreachable_nonterminals\n",
    "\n",
    "from ipynb.fs.full.Activity3_RequirementExtraction import InputSpecification, Requirement, get_all_input_specifications\n",
    "from ipynb.fs.full.Activity1_1_FeatureExtraction import Feature, ExistenceFeature, NumericInterpretation\n",
    "from ipynb.fs.full.helper import OracleResult, CALC_GRAMMAR, START_SYMBOL\n",
    "from ipynb.fs.full.Activity3_RequirementExtraction import InputSpecification, Requirement\n",
    "from ipynb.fs.full.Activity1_1_FeatureExtraction import get_all_features, collect_features\n",
    "\n",
    "def best_trees(forest, spec):\n",
    "    samples = [tree_to_string(tree) for tree in forest]\n",
    "    fulfilled_fractions= []\n",
    "    for sample in samples:\n",
    "        gen_features = collect_features([sample], CALC_GRAMMAR)\n",
    "\n",
    "        # calculate percentage of fulfilled requirements (used to rank the sample)\n",
    "        fulfilled_count = 0\n",
    "        total_count = len(spec.requirements)\n",
    "        for req in spec.requirements:\n",
    "            # for now, interpret requirement(exists(<...>) <= number) as false and requirement(exists(<...>) > number) as true\n",
    "            if isinstance(req.feature, ExistenceFeature):\n",
    "                expected = 1.0 if req.quant == '>' or req.quant == '>=' else 0.0\n",
    "                actual = gen_features[req.feature.name][0]\n",
    "                if actual == expected:\n",
    "                    fulfilled_count += 1\n",
    "                else:\n",
    "                    pass\n",
    "                    # print(f'{req.feature} expected: {expected}, actual:{actual}')\n",
    "            elif isinstance(req.feature, NumericInterpretation):\n",
    "                expected_value = float(req.value)\n",
    "                actual_value = gen_features[req.feature.name][0]\n",
    "                fulfilled = False\n",
    "                if req.quant == '<':\n",
    "                    fulfilled = actual_value < expected_value\n",
    "                elif req.quant == '<=':\n",
    "                    fulfilled = actual_value <= expected_value\n",
    "                elif req.quant == '>':\n",
    "                    fulfilled = actual_value > expected_value\n",
    "                elif req.quant == '>=':\n",
    "                    fulfilled = actual_value >= expected_value\n",
    "\n",
    "                if fulfilled:\n",
    "                    fulfilled_count += 1\n",
    "                else:\n",
    "                    pass\n",
    "                    # print(f'{req.feature} expected: {expected_value}, actual:{actual_value}')\n",
    "        fulfilled_fractions.append(fulfilled_count / total_count)\n",
    "        # print(f'Fraction of fulfilled requirements: {fulfilled_count / total_count}')\n",
    "    max_frac = max(fulfilled_fractions)\n",
    "    best_chosen = []\n",
    "    if max_frac == 1.0:\n",
    "        return True, forest[fulfilled_fractions.index(1.0)]\n",
    "\n",
    "    for i, t in enumerate(forest):\n",
    "        if fulfilled_fractions[i] == max_frac:\n",
    "            best_chosen.append(t)\n",
    "    return False, best_chosen\n",
    "\n",
    "\n",
    "# well, not perfect and probably not very robust. but it works :)\n",
    "def generate_samples_advanced(grammar: Grammar,\n",
    "                     new_input_specifications: List[InputSpecification],\n",
    "                     timeout: int) -> List[str]:\n",
    "    \n",
    "    # if there are no input specifications: generate some random samples\n",
    "    if len(new_input_specifications) == 0:\n",
    "        fuzzer = GrammarFuzzer(grammar)\n",
    "        samples = [fuzzer.fuzz() for _ in range(100)]\n",
    "        return samples\n",
    "\n",
    "    final_samples = []\n",
    "    each_spec_timeout = timeout / len(new_input_specifications)\n",
    "\n",
    "    rhs_nonterminals = grammar.keys()# list(chain(*[nonterminals(expansion) for expansion in grammar[rule]]))\n",
    "\n",
    "    fuzzer = GrammarFuzzer(grammar)\n",
    "\n",
    "\n",
    "    for spec in new_input_specifications:\n",
    "        done = False\n",
    "        starttime = time.time()\n",
    "        best_chosen = [fuzzer.fuzz_tree() for _ in range(100)]\n",
    "        done, best_chosen = best_trees(best_chosen, spec)\n",
    "        if done:\n",
    "            final_samples.append(tree_to_string(best_chosen))\n",
    "        while not done and time.time() - starttime < each_spec_timeout:\n",
    "            # split in prefix, postfix and try to reach targets\n",
    "            for tree in best_chosen:\n",
    "                prefix_len = random.randint(1, 3)\n",
    "                curr = tree\n",
    "                valid = True\n",
    "                for i in range(prefix_len):\n",
    "                    nt, children = curr\n",
    "                    poss_desc_idxs = []\n",
    "                    for c_idx, c in enumerate(children):\n",
    "                        s, _ = c\n",
    "                        possible_descend = s in rhs_nonterminals\n",
    "                        if possible_descend:\n",
    "                            poss_desc_idxs.append(c_idx)\n",
    "                    if len(poss_desc_idxs) < 1:\n",
    "                        valid = False\n",
    "                        break\n",
    "                    desc = random.randint(0, len(poss_desc_idxs) - 1)\n",
    "                    curr = children[poss_desc_idxs[desc]]\n",
    "                if valid:\n",
    "                    nt, _ = curr\n",
    "                    for req in spec.requirements:\n",
    "                        if isinstance(req.feature, NumericInterpretation) and nt == req.feature.key:\n",
    "                            # hacky: generate a derivation tree for this numeric interpretation\n",
    "                            hacky_grammar = copy.deepcopy(grammar)\n",
    "                            hacky_grammar[\"<start>\"] = [nt]\n",
    "                            parser = EarleyParser(hacky_grammar)\n",
    "                            try:\n",
    "                                test = parser.parse(req.value)\n",
    "                                x = list(test)[0]\n",
    "                                _, s = x\n",
    "                                # print(str(s[0]))\n",
    "                                # replace curr in tree with this new tree\n",
    "                                curr = s[0]\n",
    "                            except SyntaxError:\n",
    "                                pass\n",
    "            done, best_chosen = best_trees(best_chosen, spec)\n",
    "            if done:\n",
    "                final_samples.append(tree_to_string(best_chosen))\n",
    "        if not done:\n",
    "            final_samples.extend([tree_to_string(t) for t in best_chosen])\n",
    "\n",
    "    return final_samples"
   ]
  },
  {
   "cell_type": "markdown",
   "id": "7cbd9589",
   "metadata": {
    "pycharm": {
     "name": "#%% md\n"
    }
   },
   "source": [
    "### Other interesting generator functions:"
   ]
  },
  {
   "cell_type": "code",
   "execution_count": 2,
   "id": "b4612923",
   "metadata": {
    "pycharm": {
     "name": "#%%\n"
    }
   },
   "outputs": [],
   "source": [
    "from fuzzingbook.GrammarFuzzer import GrammarFuzzer\n",
    "\n",
    "def generate_samples_random(grammar, new_input_specifications, num):\n",
    "    f = GrammarFuzzer(grammar ,max_nonterminals=50, log=False)\n",
    "    data = []\n",
    "    for _ in range(num):\n",
    "        new_input = f.fuzz()\n",
    "        data.append(new_input)\n",
    "        \n",
    "    return data"
   ]
  },
  {
   "cell_type": "code",
   "execution_count": 8,
   "id": "e45db6c1",
   "metadata": {
    "pycharm": {
     "name": "#%%\n"
    }
   },
   "outputs": [
    {
     "name": "stdout",
     "output_type": "stream",
     "text": [
      "--generating samples--\n"
     ]
    },
    {
     "data": {
      "text/plain": [
       "['sqrt(-82)']"
      ]
     },
     "metadata": {},
     "output_type": "display_data"
    }
   ],
   "source": [
    "from ipynb.fs.full.helper import OracleResult, CALC_GRAMMAR, START_SYMBOL\n",
    "\n",
    "# some tests for debugging\n",
    "exsqrt = ExistenceFeature('exists(<function>@0)', '<function>', 'sqrt')\n",
    "exdigit = ExistenceFeature('exists(<digit>)', '<digit>', '<digit>')\n",
    "\n",
    "reqDigit = Requirement(exdigit, '>', '0.5')\n",
    "fbdDigit = Requirement(exdigit, '<=', '0.5')\n",
    "\n",
    "req0 = Requirement(exsqrt, '>', '-6.0')\n",
    "testspec0 = InputSpecification([req0, reqDigit])\n",
    "req1 = Requirement(exsqrt, '<=', '-6.0')\n",
    "testspec1 = InputSpecification([req1, fbdDigit])\n",
    "\n",
    "numterm = NumericInterpretation('num(<term>)', '<term>')\n",
    "req2 = Requirement(numterm, '<', '-31.0')\n",
    "testspec2 = InputSpecification([req2, req0, reqDigit])\n",
    "\n",
    "if __name__ == '__main__':\n",
    "    print('--generating samples--')\n",
    "    # samples = generate_samples(CALC_GRAMMAR, [testspec0, testspec1], 10)\n",
    "    samples = generate_samples_advanced(CALC_GRAMMAR, [testspec2], 10)\n",
    "    display(samples)"
   ]
  },
  {
   "cell_type": "code",
   "execution_count": null,
   "id": "0241cae7",
   "metadata": {
    "pycharm": {
     "name": "#%%\n"
    }
   },
   "outputs": [],
   "source": []
  }
 ],
 "metadata": {
  "kernelspec": {
   "display_name": "Python 3 (ipykernel)",
   "language": "python",
   "name": "python3"
  },
  "language_info": {
   "codemirror_mode": {
    "name": "ipython",
    "version": 3
   },
   "file_extension": ".py",
   "mimetype": "text/x-python",
   "name": "python",
   "nbconvert_exporter": "python",
   "pygments_lexer": "ipython3",
   "version": "3.10.4"
  }
 },
 "nbformat": 4,
 "nbformat_minor": 5
}