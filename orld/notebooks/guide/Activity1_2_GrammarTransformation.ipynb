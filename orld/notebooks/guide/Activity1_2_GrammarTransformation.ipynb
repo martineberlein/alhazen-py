{
 "cells": [
  {
   "cell_type": "markdown",
   "id": "75b0f82d",
   "metadata": {
    "pycharm": {
     "name": "#%% md\n"
    }
   },
   "source": [
    "# Activity 1.2: Transform Grammar\n",
    "\n",
    "Let's first import the example grammar from the fuzzing book"
   ]
  },
  {
   "cell_type": "markdown",
   "id": "286bd119",
   "metadata": {
    "pycharm": {
     "name": "#%% md\n"
    }
   },
   "source": [
    "<div class=\"alert alert-success alertsuccess\">\n",
    "[Task] Implement the function <i>transform_grammar(sample, grammar)</i>, that transforms a grammar according to Kampmann et al.\n",
    "</div>"
   ]
  },
  {
   "cell_type": "code",
   "execution_count": null,
   "id": "24319684",
   "metadata": {
    "pycharm": {
     "name": "#%%\n"
    }
   },
   "outputs": [],
   "source": [
    "from fuzzingbook.Grammars import EXPR_GRAMMAR\n",
    "\n",
    "if __name__ == \"__main__\":\n",
    "    for rule in EXPR_GRAMMAR:\n",
    "        print(rule.ljust(10), EXPR_GRAMMAR[rule])"
   ]
  },
  {
   "cell_type": "markdown",
   "id": "0986b6ad",
   "metadata": {
    "pycharm": {
     "name": "#%% md\n"
    }
   },
   "source": [
    "Then, we generate a random input using the GrammarFuzzer:"
   ]
  },
  {
   "cell_type": "code",
   "execution_count": null,
   "id": "bff6fdc5",
   "metadata": {
    "pycharm": {
     "name": "#%%\n"
    }
   },
   "outputs": [],
   "source": [
    "from fuzzingbook.GrammarFuzzer import GrammarFuzzer\n",
    "from fuzzingbook.GrammarFuzzer import tree_to_string, display_tree\n",
    "import random\n",
    "\n",
    "# For this example, fix the random seed so that the produced output is deterministic\n",
    "random.seed(24)\n",
    "f = GrammarFuzzer(EXPR_GRAMMAR, max_nonterminals=3)\n",
    "test_input = f.fuzz()\n",
    "assert(test_input == tree_to_string(f.derivation_tree))\n",
    "\n",
    "if __name__ == \"__main__\":\n",
    "    display(display_tree(f.derivation_tree))"
   ]
  },
  {
   "cell_type": "markdown",
   "id": "aa95d1c9",
   "metadata": {
    "pycharm": {
     "name": "#%% md\n"
    }
   },
   "source": [
    "For the grammar transformation, we perform a *rewrite step* that for each non-terminal symbol in the grammar, determines the word derived by this symbol in the input and adds it as an alternative to the symbol (as written in the Alhazen-paper). Here, we iterate through the derivation tree of the input and add the derived word of each non-terminal as alternatives to the grammar."
   ]
  },
  {
   "cell_type": "markdown",
   "id": "99b7c17d",
   "metadata": {
    "pycharm": {
     "name": "#%% md\n"
    }
   },
   "source": [
    "# Implementing the Function `transform_grammar`"
   ]
  },
  {
   "cell_type": "markdown",
   "id": "e7d5d416",
   "metadata": {
    "pycharm": {
     "name": "#%% md\n"
    }
   },
   "source": [
    "You should write a function `transform_grammar` that given a sample input and a grammar, transforms it according to Kampmann et al."
   ]
  },
  {
   "cell_type": "markdown",
   "id": "d2e5e646",
   "metadata": {
    "pycharm": {
     "name": "#%% md\n"
    }
   },
   "source": [
    "```python\n",
    "\n",
    "def transform_grammar(sample: str,\n",
    "                     grammar: Grammar) -> Grammar\n",
    "\n",
    "```"
   ]
  },
  {
   "cell_type": "markdown",
   "id": "6a30768f",
   "metadata": {
    "pycharm": {
     "name": "#%% md\n"
    }
   },
   "source": [
    "**INPUT**:\n",
    "the function requires the following input parameter:\n",
    "- sample: a input sample \n",
    "- grammar: the grammar that should be transformed/extended"
   ]
  },
  {
   "cell_type": "markdown",
   "id": "681733d7",
   "metadata": {
    "pycharm": {
     "name": "#%% md\n"
    }
   },
   "source": [
    "**OUTPUT**: the function should return the transformed and extended grammar."
   ]
  },
  {
   "cell_type": "code",
   "execution_count": null,
   "id": "0e904b16",
   "metadata": {
    "pycharm": {
     "name": "#%%\n"
    }
   },
   "outputs": [],
   "source": [
    "from fuzzingbook.Grammars import Grammar\n",
    "\n",
    "def transform_grammar(sample: str,\n",
    "                      grammar: Grammar) -> Grammar:\n",
    "    \n",
    "    # write your code here\n",
    "    raise NotImplementedError(\"Func. transform grammar: Function not Implemented\")"
   ]
  },
  {
   "cell_type": "markdown",
   "id": "372b19e3",
   "metadata": {
    "pycharm": {
     "name": "#%% md\n"
    }
   },
   "source": [
    "Possible solution for the function `transform_grammar`:"
   ]
  },
  {
   "cell_type": "code",
   "execution_count": null,
   "id": "b6153156",
   "metadata": {
    "pycharm": {
     "name": "#%%\n"
    }
   },
   "outputs": [],
   "source": [
    "from fuzzingbook.Grammars import is_nonterminal\n",
    "from fuzzingbook.GrammarFuzzer import tree_to_string\n",
    "\n",
    "# Then, recursively iterate through the derivation tree and for each non-terminal,\n",
    "# add the derived word to the grammar\n",
    "\n",
    "def extend_grammar(derivation_tree, grammar):\n",
    "    (node, children) = derivation_tree\n",
    "    \n",
    "    if is_nonterminal(node):\n",
    "        assert(node in grammar)\n",
    "        word = tree_to_string(derivation_tree)\n",
    "        \n",
    "        # Only add to grammar if not already existent\n",
    "        if word not in grammar[node]:\n",
    "            grammar[node].append(word)\n",
    "    \n",
    "    for child in children:\n",
    "        extend_grammar(child, grammar)"
   ]
  },
  {
   "cell_type": "code",
   "execution_count": null,
   "id": "e6d8ec22",
   "metadata": {
    "pycharm": {
     "name": "#%%\n"
    }
   },
   "outputs": [],
   "source": [
    "from fuzzingbook.GrammarFuzzer import GrammarFuzzer\n",
    "from fuzzingbook.GrammarFuzzer import display_tree, tree_to_string\n",
    "from fuzzingbook.Grammars import EXPR_GRAMMAR, Grammar\n",
    "\n",
    "import random\n",
    "import copy\n",
    "\n",
    "from fuzzingbook.Parser import EarleyParser\n",
    "from fuzzingbook.GrammarFuzzer import display_tree, tree_to_string\n",
    "\n",
    "START_SYMBOL = \"<start>\"\n",
    "\n",
    "def transform_grammar(sample: str,\n",
    "                      grammar: Grammar) -> Grammar:\n",
    "    \n",
    "    # copy of the grammar\n",
    "    transformed_grammar = copy.deepcopy(grammar)\n",
    "    \n",
    "    # parse sample\n",
    "    earley = EarleyParser(grammar)\n",
    "    for derivation_tree in earley.parse(sample):\n",
    "        extend_grammar(derivation_tree, transformed_grammar)\n",
    "            \n",
    "    return transformed_grammar"
   ]
  },
  {
   "cell_type": "markdown",
   "id": "4536b372",
   "metadata": {
    "pycharm": {
     "name": "#%% md\n"
    }
   },
   "source": [
    "Let's have a look at the transformed grammar:"
   ]
  },
  {
   "cell_type": "code",
   "execution_count": null,
   "id": "a8d78a27",
   "metadata": {
    "pycharm": {
     "name": "#%%\n"
    }
   },
   "outputs": [],
   "source": [
    "# TODO Add better test case for correct validation\n",
    "\n",
    "if __name__ == \"__main__\":\n",
    "    transformed_grammar = transform_grammar(\"1 + 2\", EXPR_GRAMMAR)\n",
    "    for rule in transformed_grammar:\n",
    "        print(rule.ljust(10), transformed_grammar[rule])"
   ]
  }
 ],
 "metadata": {
  "kernelspec": {
   "display_name": "Python 3 (ipykernel)",
   "language": "python",
   "name": "python3"
  },
  "language_info": {
   "codemirror_mode": {
    "name": "ipython",
    "version": 3
   },
   "file_extension": ".py",
   "mimetype": "text/x-python",
   "name": "python",
   "nbconvert_exporter": "python",
   "pygments_lexer": "ipython3",
   "version": "3.10.4"
  }
 },
 "nbformat": 4,
 "nbformat_minor": 5
}