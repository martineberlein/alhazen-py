{
 "cells": [
  {
   "cell_type": "markdown",
   "id": "88a3ac0b",
   "metadata": {
    "pycharm": {
     "name": "#%% md\n"
    }
   },
   "source": [
    "# Requirement Extraction from the Decision Tree"
   ]
  },
  {
   "cell_type": "markdown",
   "id": "55956dd8",
   "metadata": {
    "pycharm": {
     "name": "#%% md\n"
    }
   },
   "source": [
    "<div class=\"alert alert-info\">\n",
    "[Info]: This notebook does not contain any tasks for you, however, it can be usefull to get a better understanding of the 'get_all_input_specifications(...)' function, as well as the class-defintitions for 'Requirement' and 'InputSpecification'. You will need these to generate new input samples.\n",
    "</div>\n",
    "<hr/>"
   ]
  },
  {
   "cell_type": "markdown",
   "id": "e104549b",
   "metadata": {
    "pycharm": {
     "name": "#%% md\n"
    }
   },
   "source": [
    "In this section, we will extract the learned features from the decision tree"
   ]
  },
  {
   "cell_type": "code",
   "execution_count": null,
   "id": "8dc9a236",
   "metadata": {
    "pycharm": {
     "name": "#%%\n"
    }
   },
   "outputs": [],
   "source": [
    "from sklearn.feature_extraction import DictVectorizer\n",
    "import pandas\n",
    "\n",
    "# Features for each input, one dict per input\n",
    "features = [\n",
    "    {'function-sqrt': 1, 'function-cos': 0, 'function-sin': 0, 'number': -900},\n",
    "    {'function-sqrt': 0, 'function-cos': 1, 'function-sin': 0, 'number': 300},\n",
    "    {'function-sqrt': 1, 'function-cos': 0, 'function-sin': 0, 'number': -1},\n",
    "    {'function-sqrt': 0, 'function-cos': 1, 'function-sin': 0, 'number': -10},\n",
    "    {'function-sqrt': 0, 'function-cos': 0, 'function-sin': 1, 'number': 36},\n",
    "    {'function-sqrt': 0, 'function-cos': 0, 'function-sin': 1, 'number': -58},\n",
    "    {'function-sqrt': 1, 'function-cos': 0, 'function-sin': 0, 'number': 27},\n",
    "]\n",
    "\n",
    "# Labels for each input\n",
    "oracle = [\n",
    "    \"BUG\",\n",
    "    \"NO_BUG\",\n",
    "    \"BUG\",\n",
    "    \"NO_BUG\",\n",
    "    \"NO_BUG\",\n",
    "    \"NO_BUG\",\n",
    "    \"NO_BUG\"\n",
    "]\n",
    "\n",
    "# We can use the sklearn DictVectorizer to transform the features to numpy array:\n",
    "# Notice: Use the correct labeling of the feature_names\n",
    "\n",
    "# vec = DictVectorizer()\n",
    "# X_vec = vec.fit_transform(features).toarray()\n",
    "# feature_names = vec.get_feature_names_out()\n",
    "\n",
    "# We can also use a pandas DataFrame and directly parse it to the decision tree learner\n",
    "feature_names = ['function-sqrt', 'function-cos', 'function-sin', 'number']\n",
    "X_data = pandas.DataFrame.from_records(features)\n",
    "\n",
    "from sklearn.tree import DecisionTreeClassifier\n",
    "from sklearn import tree\n",
    "\n",
    "# Fix the random state to produce a deterministic result (for illustration purposes only)\n",
    "clf = DecisionTreeClassifier(random_state=10)\n",
    "\n",
    "# Train with DictVectorizer\n",
    "# clf = clf.fit(X_vec, oracle)\n",
    "\n",
    "# Train with Pandas Dataframe\n",
    "clf = clf.fit(X_data, oracle)\n",
    "\n",
    "import graphviz\n",
    "dot_data = tree.export_graphviz(clf, out_file=None, \n",
    "                                feature_names=feature_names,\n",
    "                                class_names=[\"BUG\", \"NO BUG\"],  \n",
    "                                filled=True, rounded=True)  \n",
    "graph = graphviz.Source(dot_data)  "
   ]
  },
  {
   "cell_type": "markdown",
   "id": "13e9543f",
   "metadata": {
    "pycharm": {
     "name": "#%% md\n"
    }
   },
   "source": [
    "<div class=\"alert alert-danger\" role=\"alert\">\n",
    "Note: The sklearn DictVectorizer uses an internal sort function as default. This will result in different feature_name indices. If you want to use the Dictvectorizer please ensure that you only acess the feature_names with the function <i>vec.get_feature_names_out()</i>. We recommend that you use the pandas Dataframe, since this is also the format used in the feedback loop.\n",
    "</div>"
   ]
  },
  {
   "cell_type": "code",
   "execution_count": null,
   "id": "dddf8b3d",
   "metadata": {
    "pycharm": {
     "name": "#%%\n"
    }
   },
   "outputs": [],
   "source": [
    "graph"
   ]
  },
  {
   "cell_type": "code",
   "execution_count": null,
   "id": "21dc449d",
   "metadata": {
    "pycharm": {
     "name": "#%%\n"
    }
   },
   "outputs": [],
   "source": [
    "from src.requirementExtractionDT.requirements import tree_to_paths\n",
    "\n",
    "# We provide a functionallity to extract the paths from a decison tree.\n",
    "all_paths = tree_to_paths(clf, feature_names)\n",
    "\n",
    "# If you use the sklearn.DictVectorizer you have to use the feature_names extracted from the vectorizer,\n",
    "# and invoke something similar to this:\n",
    "\n",
    "# all_paths = tree_to_paths(clf, vec.get_feature_names_out())"
   ]
  },
  {
   "cell_type": "markdown",
   "id": "9dcfe50d",
   "metadata": {
    "pycharm": {
     "name": "#%% md\n"
    }
   },
   "source": [
    "#### Lets test wheather we extracted the correct paths"
   ]
  },
  {
   "cell_type": "code",
   "execution_count": null,
   "id": "5db9f257",
   "metadata": {
    "pycharm": {
     "name": "#%%\n"
    }
   },
   "outputs": [],
   "source": [
    "from typing import Tuple\n",
    "\n",
    "# List[ ('Paths': str, Prediction_class: bool) ]\n",
    "expected_paths = [('function-sqrt <= 0.5', False),\n",
    "                  ('function-sqrt > 0.5 number <= 13.0', True),\n",
    "                  ('function-sqrt > 0.5 number > 13.0', False)]\n",
    "\n",
    "for count, path in enumerate(all_paths):\n",
    "    string_path = path.get(0).get_str_ext()\n",
    "    for box in range(1, len(path)):\n",
    "        string_path += \" \" + path.get(box).get_str_ext()\n",
    "    assert (string_path, path.is_bug()) == expected_paths[count],  \\\n",
    "            f\"{string_path, path.is_bug()} is not equal to {expected_paths[count]}\""
   ]
  },
  {
   "cell_type": "markdown",
   "id": "7138f130",
   "metadata": {
    "pycharm": {
     "name": "#%% md\n"
    }
   },
   "source": [
    "If no assertion is triggered, then everything seems to work."
   ]
  },
  {
   "cell_type": "markdown",
   "id": "cffe0277",
   "metadata": {
    "pycharm": {
     "name": "#%% md\n"
    }
   },
   "source": [
    "## The next step is to negate the requirements on a path to refine and refute the decision tree"
   ]
  },
  {
   "cell_type": "markdown",
   "id": "c1b477a7",
   "metadata": {
    "pycharm": {
     "name": "#%% md\n"
    }
   },
   "source": [
    "First we will determine some boundaries to obtain better path negations."
   ]
  },
  {
   "cell_type": "code",
   "execution_count": null,
   "id": "9cb9de08",
   "metadata": {
    "pycharm": {
     "name": "#%%\n"
    }
   },
   "outputs": [],
   "source": [
    "import pandas\n",
    "x = pandas.DataFrame.from_records(features)\n",
    "bounds = pandas.DataFrame([{'feature': c, 'min': x[c].min(), 'max': x[c].max()}\n",
    "                           for c in feature_names],\n",
    "                          columns=['feature', 'min', 'max']).set_index(['feature']).transpose()"
   ]
  },
  {
   "cell_type": "markdown",
   "id": "2eec9a1a",
   "metadata": {
    "pycharm": {
     "name": "#%% md\n"
    }
   },
   "source": [
    "We can use the function `path.get(i).get_neg_ext(bounds)` to obtain a negation for a single requirement on a path (indexed with `i`)."
   ]
  },
  {
   "cell_type": "markdown",
   "id": "6354e0c3",
   "metadata": {
    "pycharm": {
     "name": "#%% md\n"
    }
   },
   "source": [
    "Lets verify if we can negate a whole path."
   ]
  },
  {
   "cell_type": "markdown",
   "id": "f977e14b",
   "metadata": {
    "pycharm": {
     "name": "#%% md\n"
    }
   },
   "source": [
    "#### `TEST`"
   ]
  },
  {
   "cell_type": "code",
   "execution_count": null,
   "id": "f6b93968",
   "metadata": {
    "pycharm": {
     "name": "#%%\n"
    }
   },
   "outputs": [],
   "source": [
    "expected_all_paths_negated = ['function-sqrt > 0.5',\n",
    "                          'function-sqrt <= 0.5 number > 13.0',\n",
    "                          'function-sqrt <= 0.5 number <= 13.0']\n",
    "\n",
    "for count, path in enumerate(all_paths):\n",
    "    negated_string_path = path.get(0).get_neg_ext(bounds)[0]\n",
    "    for box in range(1, len(path)):\n",
    "        negated_string_path += \" \" + str(path.get(box).get_neg_ext(bounds)[0])\n",
    "    assert (negated_string_path) == expected_all_paths_negated[count],  \\\n",
    "            f\"{negated_string_path} is not equal to {expected_all_paths_negated[count]}\""
   ]
  },
  {
   "cell_type": "markdown",
   "id": "474f45aa",
   "metadata": {
    "pycharm": {
     "name": "#%% md\n"
    }
   },
   "source": [
    "If no assertion is triggered, then everything seems to work."
   ]
  },
  {
   "cell_type": "markdown",
   "id": "ac705639",
   "metadata": {
    "pycharm": {
     "name": "#%% md\n"
    }
   },
   "source": [
    "## Systematically negating paths"
   ]
  },
  {
   "cell_type": "markdown",
   "id": "1647d572",
   "metadata": {
    "pycharm": {
     "name": "#%% md\n"
    }
   },
   "source": [
    "We will use the Decision tree and extract new input specifications to refine or refute our hypothesis (See paper Section 4.1 - Extracting Prediction Paths). These input specifications will be parsed to the input generator that tries to generate new inputs that fullfil the defined input specifications."
   ]
  },
  {
   "cell_type": "code",
   "execution_count": null,
   "id": "35f3104f",
   "metadata": {
    "pycharm": {
     "name": "#%%\n"
    }
   },
   "outputs": [],
   "source": [
    "import pandas\n",
    "\n",
    "def extracting_prediction_paths(clf, feature_names, data):\n",
    "    \n",
    "    # determine the bounds\n",
    "    bounds = pandas.DataFrame([{'feature': c, 'min': data[c].min(), 'max': data[c].max()}\n",
    "                           for c in feature_names],\n",
    "                          columns=['feature', 'min', 'max']).set_index(['feature']).transpose()\n",
    "    \n",
    "    # go through tree leaf by leaf\n",
    "    all_reqs = set()\n",
    "    for path in tree_to_paths(clf, feature_names):\n",
    "        # generate conditions\n",
    "        for i in range(0, len(path)+1):\n",
    "            reqs_list = []\n",
    "            bins = format(i, \"#0{}b\".format(len(path)+2))[2:]\n",
    "            for p, b in zip(range(0, len(bins)), bins):\n",
    "                r = path.get(p)\n",
    "                if '1' == b:\n",
    "                    reqs_list.append(r.get_neg_ext(bounds))\n",
    "                else:\n",
    "                    reqs_list.append([r.get_str_ext()])\n",
    "            for reqs in all_combinations(reqs_list):\n",
    "                all_reqs.add(\", \".join(sorted(reqs)))\n",
    "    return all_reqs\n",
    "\n",
    "def all_combinations(reqs_lists):\n",
    "    result = [[]]\n",
    "    for reqs in reqs_lists:\n",
    "        t = []\n",
    "        for r in reqs:\n",
    "            for i in result:\n",
    "                t.append(i+[r])\n",
    "        result = t\n",
    "    return result"
   ]
  },
  {
   "cell_type": "markdown",
   "id": "b4373ac4",
   "metadata": {
    "pycharm": {
     "name": "#%% md\n"
    }
   },
   "source": [
    "We will use the Decision tree and extract new input specifications to refine or refute our hypothesis (See paper Section 4.1 - Extracting Prediction Paths). These input specifications will be parsed to the input generator that tries to generate new inputs that fullfil the defined input specifications."
   ]
  },
  {
   "cell_type": "code",
   "execution_count": null,
   "id": "cd8e2706",
   "metadata": {
    "pycharm": {
     "name": "#%%\n"
    }
   },
   "outputs": [],
   "source": [
    "new_prediction_paths = extracting_prediction_paths(clf, feature_names, data=x)"
   ]
  },
  {
   "cell_type": "markdown",
   "id": "5244ec60",
   "metadata": {
    "pycharm": {
     "name": "#%% md\n"
    }
   },
   "source": [
    "We extracted these paths:\n",
    "```python\n",
    "expected_paths = [('function-sqrt <= 0.5'),\n",
    "                  ('function-sqrt > 0.5 number <= 13.0'),\n",
    "                  ('function-sqrt > 0.5 number > 13.0')]\n",
    "```\n",
    "\n",
    "And `extracting_prediction_paths(clf, feature_names, x)` returns the follwing new paths to refine and refute our decision tree:\n",
    "\n",
    "```python\n",
    "new_prediction_paths = {'function-sqrt <= 0.5',\n",
    "                            'function-sqrt <= 0.5, number <= 13.0',\n",
    "                            'function-sqrt <= 0.5, number > 13.0',\n",
    "                            'function-sqrt > 0.5',\n",
    "                            'function-sqrt > 0.5, number <= 13.0',\n",
    "                            'function-sqrt > 0.5, number > 13.0'`\n",
    "\n",
    "```"
   ]
  },
  {
   "cell_type": "markdown",
   "id": "cf77ac92",
   "metadata": {
    "pycharm": {
     "name": "#%% md\n"
    }
   },
   "source": [
    "#### `TEST`"
   ]
  },
  {
   "cell_type": "code",
   "execution_count": null,
   "id": "559ce281",
   "metadata": {
    "pycharm": {
     "name": "#%%\n"
    }
   },
   "outputs": [],
   "source": [
    "expected_prediction_paths = {'function-sqrt <= 0.5',\n",
    "                            'function-sqrt <= 0.5, number <= 13.0',\n",
    "                            'function-sqrt <= 0.5, number > 13.0',\n",
    "                            'function-sqrt > 0.5',\n",
    "                            'function-sqrt > 0.5, number <= 13.0',\n",
    "                            'function-sqrt > 0.5, number > 13.0'}\n",
    "\n",
    "for expected_path in expected_prediction_paths:\n",
    "    assert expected_path in new_prediction_paths, \\\n",
    "        f\"Missing prediciton path: {expected_path}\"\n",
    "    \n",
    "assert len(expected_prediction_paths) == len(new_prediction_paths), \\\n",
    "    f\"Too many prediction paths were generated (expected {len(expected_prediction_paths)}, got {len(new_prediction_paths)} )\""
   ]
  },
  {
   "cell_type": "markdown",
   "id": "577aa16c",
   "metadata": {
    "pycharm": {
     "name": "#%% md\n"
    }
   },
   "source": [
    "If no assertion is triggered, then everything seems to work."
   ]
  },
  {
   "cell_type": "markdown",
   "id": "fef5a1a5",
   "metadata": {
    "pycharm": {
     "name": "#%% md\n"
    }
   },
   "source": [
    "# Input Specification Parser"
   ]
  },
  {
   "cell_type": "code",
   "execution_count": null,
   "id": "bfd651db",
   "metadata": {
    "pycharm": {
     "name": "#%%\n"
    }
   },
   "outputs": [],
   "source": [
    "import string\n",
    "from fuzzingbook.Grammars import Grammar, is_valid_grammar\n",
    "START_SYMBOL = \"<start>\"\n",
    "\n",
    "SPECIFICATION: Grammar = {\n",
    "    \"<start>\":\n",
    "        [\"<req_list>\"],\n",
    "    \n",
    "    \"<req_list>\": \n",
    "        [\"<req>\", \"<req>\"\", \"\"<req_list>\"],\n",
    "\n",
    "    \"<req>\":\n",
    "        [\"<feature>\"\" \"\"<quant>\"\" \"\"<num>\"],\n",
    "    \n",
    "    \"<feature>\": [\"exists(<string>)\",\n",
    "                  \"num(<string>)\",\n",
    "                  # currently not used\n",
    "                  \"char(<string>)\",\n",
    "                  \"length(<string>)\"], \n",
    "    \n",
    "    \"<quant>\":\n",
    "        [\"<\", \">\", \"<=\", \">=\"],\n",
    "    \n",
    "    \"<num>\": [\"-<value>\", \"<value>\"],\n",
    "    \n",
    "    \"<value>\":\n",
    "        [\"<integer>.<integer>\",\n",
    "         \"<integer>\"],\n",
    "\n",
    "    \"<integer>\":\n",
    "        [\"<digit><integer>\", \"<digit>\"],\n",
    "\n",
    "    \"<digit>\":\n",
    "        [\"0\", \"1\", \"2\", \"3\", \"4\", \"5\", \"6\", \"7\", \"8\", \"9\"],\n",
    "    \n",
    "    '<string>': ['<letters>'],\n",
    "    '<letters>': ['<letter><letters>', '<letter>'],\n",
    "    '<letter>': list(string.ascii_letters + string.digits + string.punctuation)\n",
    "}\n",
    "    \n",
    "assert is_valid_grammar(SPECIFICATION, START_SYMBOL) == True"
   ]
  },
  {
   "cell_type": "markdown",
   "id": "3d792775",
   "metadata": {
    "pycharm": {
     "name": "#%% md\n"
    }
   },
   "source": [
    "###  Lets validate the parser:"
   ]
  },
  {
   "cell_type": "markdown",
   "id": "aa384f95",
   "metadata": {
    "pycharm": {
     "name": "#%% md\n"
    }
   },
   "source": [
    "Lets validate our grammar, by using the grammar to produce 100 sample requirement specifications"
   ]
  },
  {
   "cell_type": "code",
   "execution_count": null,
   "id": "a87e3558",
   "metadata": {
    "pycharm": {
     "name": "#%%\n"
    }
   },
   "outputs": [],
   "source": [
    "from fuzzingbook.GrammarFuzzer import GrammarFuzzer\n",
    "from fuzzingbook.Grammars import EXPR_GRAMMAR, Expansion\n",
    "from fuzzingbook.Parser import EarleyParser, tree_to_string\n",
    "\n",
    "g = GrammarFuzzer(SPECIFICATION, START_SYMBOL ,max_nonterminals= 100)\n",
    "earley = EarleyParser(SPECIFICATION)\n",
    "for i in range(100):\n",
    "    sample = g.fuzz()\n",
    "    for tree in earley.parse(sample):\n",
    "        assert tree_to_string(tree) == sample, f\"{tree_to_string(tree)} and {sample} are not equal\""
   ]
  },
  {
   "cell_type": "markdown",
   "id": "2466de75",
   "metadata": {
    "pycharm": {
     "name": "#%% md\n"
    }
   },
   "source": [
    "Lets also try with some real requirement specifications"
   ]
  },
  {
   "cell_type": "markdown",
   "id": "3593379f",
   "metadata": {
    "pycharm": {
     "name": "#%% md\n"
    }
   },
   "source": [
    "#### `TEST`"
   ]
  },
  {
   "cell_type": "code",
   "execution_count": null,
   "id": "a7640a1f",
   "metadata": {
    "pycharm": {
     "name": "#%%\n"
    }
   },
   "outputs": [],
   "source": [
    "earley = EarleyParser(SPECIFICATION)\n",
    "teststrings = ['exists(<function>@0) > 0.5, exists(<term>@0) <= 0.5, exists(<value>@1) <= 0.5',\n",
    "               'exists(<digit>@9) <= 0.5, exists(<function>@0) > 0.5, num(<term>) > 0.05000000074505806',\n",
    "               'exists(<digit>@2) <= 0.5, exists(<function>@0) < 0.5, num(<term>) <= 0.05000000074505806',\n",
    "               'exists(<function>@0) > 0.5, num(<term>) > -3965678.1875']\n",
    "for count, sample in enumerate(teststrings):\n",
    "    for tree in earley.parse(sample):\n",
    "        assert tree_to_string(tree) == teststrings[count], \\\n",
    "        f\"{tree_to_string(tree)} and {teststrings[count]} are not equal\""
   ]
  },
  {
   "cell_type": "markdown",
   "id": "ff28ff22",
   "metadata": {
    "pycharm": {
     "name": "#%% md\n"
    }
   },
   "source": [
    "# Retrive New input Specifications"
   ]
  },
  {
   "cell_type": "code",
   "execution_count": null,
   "id": "629add2f",
   "metadata": {
    "pycharm": {
     "name": "#%%\n"
    }
   },
   "outputs": [],
   "source": [
    "from typing import List\n",
    "from fuzzingbook.GrammarFuzzer import DerivationTree\n",
    "from ipynb.fs.full.Activity1_1_FeatureExtraction import Feature\n",
    "\n",
    "class Requirement:\n",
    "    '''\n",
    "    This class represents a requirement for a new input sample that should be generated.\n",
    "    This class contains the feature that should be fullfiled (Feature), a quantifier\n",
    "    (\"<\", \">\", \"<=\", \">=\") and a value. For instance exist(feature) >= 0.5 states that\n",
    "    the syntactical existence feature should be used to produce a new input.\n",
    "    \n",
    "    feature  : Is the associated feature class\n",
    "    quant    : The quantifier\n",
    "    value    : The value of the requirement. Note that for existence features this value\n",
    "                is allways between 0 and 1.\n",
    "    '''\n",
    "    \n",
    "    def __init__(self, feature: Feature, quantificator, value):\n",
    "        self.feature: Feature = feature\n",
    "        self.quant = quantificator\n",
    "        self.value = value\n",
    "        \n",
    "    def __str__(self):\n",
    "        return f\"Requirement({self.feature.name} {self.quant} {self.value})\"\n",
    "        \n",
    "\n",
    "class InputSpecification:\n",
    "    '''\n",
    "    This class represents a complet input specification of a new input. A input specification\n",
    "    consists of one or more requirements. \n",
    "    \n",
    "    requirements  : Is a list of all requirements that must be used.\n",
    "    '''\n",
    "    \n",
    "    def __init__(self, requirements: List[Requirement]):\n",
    "        self.requirements: List[Reqirement] = requirements\n",
    "        \n",
    "    def __str__(self):\n",
    "        # Handle first element\n",
    "        s = f\"{str(self.requirements[0])}\"\n",
    "        for count in range(1, len(self.requirements)):\n",
    "            s += (\", \" + str(self.requirements[count]))\n",
    "            \n",
    "        return f\"NewInputSpecification({s})\"\n",
    "\n",
    "\n",
    "def get_all_subtrees(derivation_tree, non_terminal):\n",
    "    '''\n",
    "    Iteratively returns a list of subtrees that start with a given non_terminal.\n",
    "    '''  \n",
    "    \n",
    "    subtrees = []\n",
    "    (node, children) = derivation_tree\n",
    "    \n",
    "    if node == non_terminal:\n",
    "        subtrees.append(derivation_tree)\n",
    "    \n",
    "    for child in children:\n",
    "        subtrees = subtrees + get_all_subtrees(child, non_terminal)\n",
    "    \n",
    "    return subtrees\n",
    "    \n",
    "def create_new_input_specification(derivation_tree, all_features) -> InputSpecification:\n",
    "    '''\n",
    "    This function creates a new input specification for a parsed decision tree path.\n",
    "    The input derivation_tree corresponds to a already negated path in the decision tree.\n",
    "    '''  \n",
    "\n",
    "    requirement_list = []\n",
    "    \n",
    "    for req in get_all_subtrees(derivation_tree, '<req>'):\n",
    "        feature_name = tree_to_string(get_all_subtrees(req, '<feature>')[0])\n",
    "        quant = tree_to_string(get_all_subtrees(req, '<quant>')[0])\n",
    "        value = tree_to_string(get_all_subtrees(req, '<num>')[0])\n",
    "        \n",
    "        feature_class = None\n",
    "        for f in all_features:\n",
    "            if f.name == feature_name:\n",
    "                feature_class = f\n",
    "                \n",
    "        requirement_list.append(Requirement(feature_class, quant, value))\n",
    "        \n",
    "    return InputSpecification(requirement_list)\n",
    "\n",
    "\n",
    "def get_all_input_specifications(dec_tree,\n",
    "                                 all_features: List[Feature],\n",
    "                                 feature_names: List[str],\n",
    "                                 data) -> List[InputSpecification]:\n",
    "    '''\n",
    "    Returns a complete list new input specification that were extracted from a learned decision tree.\n",
    "    \n",
    "    INPUT: \n",
    "        - dec_tree       : The learned decision tree.\n",
    "        - all_features   : A list of all features\n",
    "        - feature_names  : The list of the feature names (feature.name)\n",
    "        - data.          : The data that was used to learn the decision tree\n",
    "        \n",
    "    OUTPUT:\n",
    "        - Returns a list of InputSpecifications\n",
    "    '''  \n",
    "    prediciton_paths = extracting_prediction_paths(dec_tree, feature_names, data)\n",
    "    input_specifications = []\n",
    "    \n",
    "    # parse all extracted paths\n",
    "    for r in prediciton_paths:\n",
    "        earley = EarleyParser(SPECIFICATION)\n",
    "        try:\n",
    "            for tree in earley.parse(r):\n",
    "                input_specifications.append(create_new_input_specification(tree, all_features))\n",
    "        except SyntaxError:\n",
    "            # Catch Parsing Syntax Errors: num(<term>) in [-900, 0] will fail; Might fix later\n",
    "            # For now, inputs following that form will be ignored\n",
    "            pass\n",
    "    \n",
    "    return input_specifications"
   ]
  },
  {
   "cell_type": "markdown",
   "id": "48349074",
   "metadata": {
    "pycharm": {
     "name": "#%% md\n"
    }
   },
   "source": [
    "#### `TEST`"
   ]
  },
  {
   "cell_type": "code",
   "execution_count": null,
   "id": "41f2e294",
   "metadata": {
    "pycharm": {
     "name": "#%%\n"
    }
   },
   "outputs": [],
   "source": [
    "# feature extraction\n",
    "from ipynb.fs.full.Activity1_1_FeatureExtraction import extract_existence, extract_numeric\n",
    "from ipynb.fs.full.helper import CALC_GRAMMAR\n",
    "\n",
    "sample_prediction_paths = ['exists(<function>@0) > 0.5, num(<term>) <= -38244758.0',\n",
    "                        'exists(<digit>@7) <= 0.5, exists(<function>@0) > 0.5, num(<term>) <= 0.05000000074505806',\n",
    "                        'exists(<digit>) > 1.5, exists(<function>@0) > 0.5, num(<term>) <= 0.21850000321865082', \n",
    "                        'exists(<function>@0) > 0.5']\n",
    "\n",
    "expected_input_specifications = ['NewInputSpecification(Requirement(exists(<function>@0) > 0.5), Requirement(num(<term>) <= -38244758.0))',\n",
    "                                 'NewInputSpecification(Requirement(exists(<digit>@7) <= 0.5), Requirement(exists(<function>@0) > 0.5), Requirement(num(<term>) <= 0.05000000074505806))',\n",
    "                                 'NewInputSpecification(Requirement(exists(<digit>) > 1.5), Requirement(exists(<function>@0) > 0.5), Requirement(num(<term>) <= 0.21850000321865082))',\n",
    "                                 'NewInputSpecification(Requirement(exists(<function>@0) > 0.5))']\n",
    "\n",
    "all_features = extract_existence(CALC_GRAMMAR) + extract_numeric(CALC_GRAMMAR)\n",
    "\n",
    "earley = EarleyParser(SPECIFICATION)\n",
    "for count, sample in enumerate(sample_prediction_paths):\n",
    "    for tree in earley.parse(sample):\n",
    "        input_specification = create_new_input_specification(tree, all_features)\n",
    "        assert str(input_specification) == expected_input_specifications[count], \\\n",
    "            f\"{str(input_specification)} is not equal to {expected_input_specifications[count]}\""
   ]
  },
  {
   "cell_type": "markdown",
   "id": "573fd7fe",
   "metadata": {
    "pycharm": {
     "name": "#%% md\n"
    }
   },
   "source": [
    "If no assertion is triggered, then everything seems to work."
   ]
  }
 ],
 "metadata": {
  "kernelspec": {
   "display_name": "Python 3 (ipykernel)",
   "language": "python",
   "name": "python3"
  },
  "language_info": {
   "codemirror_mode": {
    "name": "ipython",
    "version": 3
   },
   "file_extension": ".py",
   "mimetype": "text/x-python",
   "name": "python",
   "nbconvert_exporter": "python",
   "pygments_lexer": "ipython3",
   "version": "3.10.4"
  }
 },
 "nbformat": 4,
 "nbformat_minor": 5
}