{
 "cells": [
  {
   "cell_type": "markdown",
   "id": "4db5775b",
   "metadata": {
    "pycharm": {
     "name": "#%% md\n"
    }
   },
   "source": [
    "# Activity 1.1: Feature Extraction"
   ]
  },
  {
   "cell_type": "markdown",
   "id": "6a97d5cf",
   "metadata": {
    "pycharm": {
     "name": "#%% md\n"
    }
   },
   "source": [
    "<div class=\"alert alert-success alertsuccess\">\n",
    "[Task] Implement the functions <i>extract_existence</i>, <i>extract_numeric</i>, and <i>collect_features</i> to extract all possible features from a grammar and to parse each input file into its individual features.\n",
    "</div>"
   ]
  },
  {
   "cell_type": "markdown",
   "id": "7696683e",
   "metadata": {
    "pycharm": {
     "name": "#%% md\n"
    }
   },
   "source": [
    "## Overview\n",
    "\n",
    "In this module, we are concerned with the problem of extracting semantic features from inputs. In particular, Alhazen defines various features based on the input grammar, such as *existance* and *numeric interpretation*. These features are then extracted from the parse trees of the inputs (see [Section 3 of the paper](https://publications.cispa.saarland/3107/7/fse2020-alhazen.pdf) for more details).\n",
    "\n",
    "The implementation of the feature extraction module consists of the following three tasks:\n",
    "1. Implementation of individual feature classes, whose instances allow to derive specific feature values from inputs\n",
    "2. Extraction of features from the grammar through instantiation of the aforementioned feature classes\n",
    "3. Computation of feature vectors from a set of inputs, which will then be used as input for the decision tree"
   ]
  },
  {
   "cell_type": "markdown",
   "id": "cb077ea0",
   "metadata": {
    "pycharm": {
     "name": "#%% md\n"
    }
   },
   "source": [
    "<div class=\"alert alert-info\">\n",
    "[Info]: For more information about parsing inputs with a grammar, we recommand to have a look at the chapters <a href=\"https://www.fuzzingbook.org/html/Grammars.html\">Fuzzing with Grammars</a> and <a href=\"https://www.fuzzingbook.org/html/Parser.html\">Parsing Inputs</a> of the fuzzingbook.\n",
    "</div>"
   ]
  },
  {
   "cell_type": "code",
   "execution_count": null,
   "id": "2408eee5",
   "metadata": {
    "pycharm": {
     "name": "#%%\n"
    }
   },
   "outputs": [],
   "source": [
    "# For type hints\n",
    "from typing import Tuple, List, Optional, Any, Union, Set, Callable, Dict\n",
    "DerivationTree = Tuple[str, Optional[List[Any]]]"
   ]
  },
  {
   "cell_type": "markdown",
   "id": "346fc70d",
   "metadata": {
    "pycharm": {
     "name": "#%% md\n"
    }
   },
   "source": [
    "## The calc grammar"
   ]
  },
  {
   "cell_type": "code",
   "execution_count": null,
   "id": "ef92d079",
   "metadata": {
    "pycharm": {
     "name": "#%%\n"
    }
   },
   "outputs": [],
   "source": [
    "# Custom Calculator Grammar from Kampmann et al. (See paper - with out regex)\n",
    "# Lets load the grammar from the util-notebook\n",
    "from ipynb.fs.full.helper import CALC_GRAMMAR\n",
    "from fuzzingbook.Grammars import Grammar\n",
    "\n",
    "if __name__ == \"__main__\":\n",
    "    for rule in CALC_GRAMMAR:\n",
    "        print(rule.ljust(15), CALC_GRAMMAR[rule])"
   ]
  },
  {
   "cell_type": "markdown",
   "id": "992721b0",
   "metadata": {
    "pycharm": {
     "name": "#%% md\n"
    }
   },
   "source": [
    "## Task 1: Implementing the feature classes"
   ]
  },
  {
   "cell_type": "code",
   "execution_count": null,
   "id": "b22c9a8d",
   "metadata": {
    "pycharm": {
     "name": "#%%\n"
    }
   },
   "outputs": [],
   "source": [
    "from abc import ABC, abstractmethod\n",
    "\n",
    "class Feature(ABC):\n",
    "    '''\n",
    "    The abstract base class for grammar features.\n",
    "    \n",
    "    Args:\n",
    "        name : A unique identifier name for this feature. Should not contain Whitespaces. \n",
    "               e.g., 'type(<feature>@1)'\n",
    "        rule : The production rule (e.g., '<function>' or '<value>').\n",
    "        key  : The feature key (e.g., the chosen alternative or rule itself).\n",
    "    '''\n",
    "    \n",
    "    def __init__(self, name: str, rule: str, key: str) -> None:\n",
    "        self.name = name\n",
    "        self.rule = rule\n",
    "        self.key = key\n",
    "        super().__init__()\n",
    "        \n",
    "    def __repr__(self) -> str:\n",
    "        '''Returns a printable string representation of the feature.'''\n",
    "        return self.name_rep()\n",
    "    \n",
    "    @abstractmethod\n",
    "    def name_rep(self) -> str:\n",
    "        pass\n",
    "    \n",
    "    @abstractmethod\n",
    "    def get_feature_value(self, derivation_tree) -> float:\n",
    "        '''Returns the feature value for a given derivation tree of an input.'''\n",
    "        pass"
   ]
  },
  {
   "cell_type": "markdown",
   "id": "24bd481b",
   "metadata": {
    "pycharm": {
     "name": "#%% md\n"
    }
   },
   "source": [
    "Possible solution for the feature classes `ExistenceFeature` and `NumericInterpretation`:"
   ]
  },
  {
   "cell_type": "code",
   "execution_count": null,
   "id": "6259d49d",
   "metadata": {
    "pycharm": {
     "name": "#%%\n"
    }
   },
   "outputs": [],
   "source": [
    "from fuzzingbook.GrammarFuzzer import expansion_to_children\n",
    "\n",
    "class ExistenceFeature(Feature):\n",
    "    '''\n",
    "    This class represents existence features of a grammar. Existence features indicate \n",
    "    whether a particular production rule was used in the derivation sequence of an input. \n",
    "    For a given production rule P -> A | B, a production existence feature for P and \n",
    "    alternative existence features for each alternative (i.e., A and B) are defined.\n",
    "    \n",
    "    name : A unique identifier name for this feature. Should not contain Whitespaces. \n",
    "           e.g., 'exist(<digit>@1)'\n",
    "    rule : The production rule.\n",
    "    key  : The feature key, equal to the rule attribute for production features, \n",
    "           or equal to the corresponding alternative for alternative features.\n",
    "    '''\n",
    "    def __init__(self, name: str, rule: str, key: str) -> None:\n",
    "        super().__init__(name, rule, key)\n",
    "    \n",
    "    def name_rep(self) -> str:\n",
    "        if self.rule == self.key:\n",
    "            return f\"exists({self.rule})\"\n",
    "        else:\n",
    "            return f\"exists({self.rule} == {self.key})\"\n",
    "    \n",
    "    \n",
    "    def get_feature_value(self, derivation_tree) -> float:\n",
    "        '''Returns the feature value for a given derivation tree of an input.'''\n",
    "        raise NotImplementedError\n",
    "    \n",
    "\n",
    "    def get_feature_value(self, derivation_tree: DerivationTree) -> float:\n",
    "        '''Counts the number of times this feature was matched in the derivation tree.'''\n",
    "        (node, children) = derivation_tree\n",
    "        \n",
    "        # The local match count (1 if the feature is matched for the current node, 0 if not)\n",
    "        count = 0\n",
    "        \n",
    "        # First check if the current node can be matched with the rule\n",
    "        if node == self.rule:\n",
    "            \n",
    "            # Production existance feature\n",
    "            if self.rule == self.key:\n",
    "                count = 1\n",
    "            \n",
    "            # Production alternative existance feature\n",
    "            # We compare the children of the expansion with the actual children\n",
    "            else:\n",
    "                expansion_children = list(map(lambda x: x[0], expansion_to_children(self.key)))\n",
    "                node_children = list(map(lambda x: x[0], children))\n",
    "                if expansion_children == node_children:\n",
    "                    count= 1\n",
    "        \n",
    "        # Recursively compute the counts for all children and return the sum for the whole tree\n",
    "        for child in children:\n",
    "            count = max(count, self.get_feature_value(child)) \n",
    "        \n",
    "        return count"
   ]
  },
  {
   "cell_type": "code",
   "execution_count": null,
   "id": "30715986",
   "metadata": {
    "pycharm": {
     "name": "#%%\n"
    }
   },
   "outputs": [],
   "source": [
    "from fuzzingbook.GrammarFuzzer import tree_to_string\n",
    "from numpy import nanmax, isnan\n",
    "\n",
    "class NumericInterpretation(Feature):\n",
    "    '''\n",
    "    This class represents numeric interpretation features of a grammar. These features\n",
    "    are defined for productions that only derive words composed of the characters\n",
    "    [0-9], '.', and '-'. The returned feature value corresponds to the maximum\n",
    "    floating-point number interpretation of the derived words of a production.\n",
    "\n",
    "    name : A unique identifier name for this feature. Should not contain Whitespaces. \n",
    "           e.g., 'num(<integer>)'\n",
    "    rule : The production rule.\n",
    "    '''\n",
    "    def __init__(self, name: str, rule: str) -> None:\n",
    "        super().__init__(name, rule, rule)\n",
    "    \n",
    "    def name_rep(self) -> str:\n",
    "        return f\"num({self.key})\"\n",
    "    \n",
    "    def get_feature_value(self, derivation_tree) -> float:\n",
    "        '''Returns the feature value for a given derivation tree of an input.'''\n",
    "        raise NotImplementedError\n",
    "    \n",
    "    def get_feature_value(self, derivation_tree: DerivationTree) -> float:\n",
    "        '''Determines the maximum float of this feature in the derivation tree.'''\n",
    "        (node, children) = derivation_tree\n",
    "        \n",
    "        value = float('nan')\n",
    "        if node == self.rule:\n",
    "            try:\n",
    "                #print(self.name, float(tree_to_string(derivation_tree)))\n",
    "                value = float(tree_to_string(derivation_tree))\n",
    "            except ValueError:\n",
    "                #print(self.name, float(tree_to_string(derivation_tree)), \"err\")\n",
    "                pass\n",
    "            \n",
    "        # Return maximum value encountered in tree, ignoring all NaNs\n",
    "        tree_values = [value] + [self.get_feature_value(c) for c in children]\n",
    "        if all(isnan(tree_values)):\n",
    "            return value\n",
    "        else:\n",
    "            return nanmax(tree_values)"
   ]
  },
  {
   "cell_type": "markdown",
   "id": "f5a47cef",
   "metadata": {
    "pycharm": {
     "name": "#%% md\n"
    }
   },
   "source": [
    "## Task 2: Extracting the feature set from the grammar"
   ]
  },
  {
   "cell_type": "markdown",
   "id": "2279c39c",
   "metadata": {
    "pycharm": {
     "name": "#%% md\n"
    }
   },
   "source": [
    "<div class=\"alert alert-success alertsuccess\">\n",
    "[Task] Implement the function <i>extract_existence</i>. The function should extracts all existence features from the grammar and returns them as a list.\n",
    "</div>"
   ]
  },
  {
   "cell_type": "code",
   "execution_count": null,
   "id": "d6182d73",
   "metadata": {
    "pycharm": {
     "name": "#%%\n"
    }
   },
   "outputs": [],
   "source": [
    "def extract_existence(grammar: Grammar) -> List[ExistenceFeature]:\n",
    "    '''\n",
    "        Extracts all existence features from the grammar and returns them as a list.\n",
    "        grammar : The input grammar.\n",
    "    '''\n",
    "    \n",
    "    # Your code goes here\n",
    "    raise NotImplementedError(\"Func. extract_existence: Function not Implemented\")"
   ]
  },
  {
   "cell_type": "markdown",
   "id": "57fe52fc",
   "metadata": {
    "pycharm": {
     "name": "#%% md\n"
    }
   },
   "source": [
    "Possible solution for the function `extract_existence`:"
   ]
  },
  {
   "cell_type": "code",
   "execution_count": null,
   "id": "4e1ae29f",
   "metadata": {
    "pycharm": {
     "name": "#%%\n"
    }
   },
   "outputs": [],
   "source": [
    "def extract_existence(grammar: Grammar) -> List[ExistenceFeature]:\n",
    "    '''\n",
    "        Extracts all existence features from the grammar and returns them as a list.\n",
    "        grammar : The input grammar.\n",
    "    '''\n",
    "    \n",
    "    features = []\n",
    "    \n",
    "    for rule in grammar:\n",
    "        # add the rule\n",
    "        features.append(ExistenceFeature(f\"exists({rule})\", rule, rule))\n",
    "        # add all alternatives\n",
    "        for count, expansion in enumerate(grammar[rule]):\n",
    "            features.append(ExistenceFeature(f\"exists({rule}@{count})\", rule, expansion))\n",
    "    \n",
    "    return features"
   ]
  },
  {
   "cell_type": "markdown",
   "id": "350e4463",
   "metadata": {
    "pycharm": {
     "name": "#%% md\n"
    }
   },
   "source": [
    "<div class=\"alert alert-success alertsuccess\">\n",
    "[Task] Implement the function <i>extract_numeric</i>. The function should extract all numeric interpretation features from the grammar and returns them as a list.\n",
    "</div>"
   ]
  },
  {
   "cell_type": "code",
   "execution_count": null,
   "id": "19ab1115",
   "metadata": {
    "pycharm": {
     "name": "#%%\n"
    }
   },
   "outputs": [],
   "source": [
    "def extract_numeric(grammar: Grammar) -> List[NumericInterpretation]:\n",
    "    '''\n",
    "        Extracts all numeric interpretation features from the grammar and returns them as a list.\n",
    "        \n",
    "        grammar : The input grammar.\n",
    "    '''\n",
    "    \n",
    "    # Your code goes here\n",
    "    raise NotImplementedError(\"Func. extract_numeric: Function not Implemented\")"
   ]
  },
  {
   "cell_type": "markdown",
   "id": "f1909259",
   "metadata": {
    "pycharm": {
     "name": "#%% md\n"
    }
   },
   "source": [
    "Possible solution for the function `extract_numeric`:"
   ]
  },
  {
   "cell_type": "code",
   "execution_count": null,
   "id": "a9cdb6e5",
   "metadata": {
    "pycharm": {
     "name": "#%%\n"
    }
   },
   "outputs": [],
   "source": [
    "from fuzzingbook.Grammars import reachable_nonterminals\n",
    "from collections import defaultdict\n",
    "import re\n",
    "\n",
    "# Regex for non-terminal symbols in expansions\n",
    "RE_NONTERMINAL = re.compile(r'(<[^<> ]*>)')\n",
    "\n",
    "def extract_numeric(grammar: Grammar) -> List[NumericInterpretation]:\n",
    "    '''\n",
    "        Extracts all numeric interpretation features from the grammar and returns them as a list.\n",
    "        \n",
    "        grammar : The input grammar.\n",
    "    '''\n",
    "    \n",
    "    features = []\n",
    "    \n",
    "    # Mapping from non-terminals to derivable terminal chars\n",
    "    derivable_chars = defaultdict(set)\n",
    "    \n",
    "    for rule in grammar:\n",
    "        for expansion in grammar[rule]:\n",
    "            \n",
    "            # Remove non-terminal symbols and whitespace from expansion\n",
    "            terminals = re.sub(RE_NONTERMINAL, '', expansion).replace(' ', '')\n",
    "            \n",
    "            # Add each terminal char to the set of derivable chars\n",
    "            for c in terminals:\n",
    "                derivable_chars[rule].add(c)\n",
    "    \n",
    "    # Repeatedly update the mapping until convergence\n",
    "    while True:\n",
    "        updated = False\n",
    "        for rule in grammar:\n",
    "            for r in reachable_nonterminals(grammar, rule):\n",
    "                before = len(derivable_chars[rule])\n",
    "                derivable_chars[rule].update(derivable_chars[r])\n",
    "                after = len(derivable_chars[rule])\n",
    "                \n",
    "                # Set of derivable chars was updated\n",
    "                if after > before:\n",
    "                    updated = True\n",
    "        \n",
    "        if not updated:\n",
    "            break\n",
    "    \n",
    "    numeric_chars = set(['0','1','2','3','4','5','6','7','8','9','.','-'])\n",
    "    \n",
    "    for key in derivable_chars:\n",
    "        # Check if derivable chars contain only numeric chars\n",
    "        if len(derivable_chars[key] - numeric_chars) == 0:\n",
    "            features.append(NumericInterpretation(f\"num({key})\", key))\n",
    "            \n",
    "    return features"
   ]
  },
  {
   "cell_type": "markdown",
   "id": "4764d71b",
   "metadata": {
    "pycharm": {
     "name": "#%% md\n"
    }
   },
   "source": [
    "<div class=\"alert alert-danger\" role=\"alert\">\n",
    "[Note] For the 'Feature.name' attribute, please use a unique identifier that does not contain any whitespaces. For instance, the identifier name can be something similar to 'exists(&lt;feature&gt;@1)' or 'exists(&lt;digit&gt;@0)'. @i corresponds to the i-te derivation alternative of a rule. \n",
    "\n",
    "For instance, exists(&lt;digit&gt;@0) correspondes to exists(&lt;digit&gt; == 0), or exists(&lt;feature&gt;@1) corresponds to exists(&lt;feature&gt; == tan). We use these identifier to speed up the parsing process. The nice representation of 'exists({self.rule} == {self.key})' is only used for us humans to give us easier to grasp explanations. For further information, please look at the gitlab issue #2.\n",
    "</div>"
   ]
  },
  {
   "cell_type": "markdown",
   "id": "9fceca2a",
   "metadata": {
    "pycharm": {
     "name": "#%% md\n"
    }
   },
   "source": [
    "## Test 1: Confirm that we have extracted the right number of features"
   ]
  },
  {
   "cell_type": "code",
   "execution_count": null,
   "id": "889a7c3e",
   "metadata": {
    "pycharm": {
     "name": "#%%\n"
    }
   },
   "outputs": [],
   "source": [
    "def get_all_features(grammar: Grammar) -> List[Feature]:\n",
    "    return extract_existence(grammar) + extract_numeric(grammar)"
   ]
  },
  {
   "cell_type": "code",
   "execution_count": null,
   "id": "46e508b5",
   "metadata": {
    "pycharm": {
     "name": "#%%\n"
    }
   },
   "outputs": [],
   "source": [
    "def test_features(features: List[Feature]) -> None:\n",
    "    existence_features = 0\n",
    "    numeric_features = 0\n",
    "    \n",
    "    for feature in features:\n",
    "        if isinstance(feature, ExistenceFeature):\n",
    "            existence_features += 1\n",
    "        elif isinstance(feature, NumericInterpretation):\n",
    "            numeric_features += 1\n",
    "            \n",
    "    assert(existence_features == 27)\n",
    "    assert(numeric_features == 4)\n",
    "    \n",
    "    expected_feature_names = [\"exists(<start>)\",\n",
    "        \"exists(<start> == <function>(<term>))\",\n",
    "        \"exists(<function>)\",\n",
    "        \"exists(<function> == sqrt)\",\n",
    "        \"exists(<function> == tan)\",\n",
    "        \"exists(<function> == cos)\",\n",
    "        \"exists(<function> == sin)\",\n",
    "        \"exists(<term>)\",\n",
    "        \"exists(<term> == -<value>)\",\n",
    "        \"exists(<term> == <value>)\",\n",
    "        \"exists(<value>)\",\n",
    "        \"exists(<value> == <integer>.<integer>)\",\n",
    "        \"exists(<value> == <integer>)\",\n",
    "        \"exists(<integer>)\",\n",
    "        \"exists(<integer> == <digit><integer>)\",\n",
    "        \"exists(<integer> == <digit>)\",\n",
    "        \"exists(<digit>)\",\n",
    "        \"exists(<digit> == 0)\",\n",
    "        \"exists(<digit> == 1)\",\n",
    "        \"exists(<digit> == 2)\",\n",
    "        \"exists(<digit> == 3)\",\n",
    "        \"exists(<digit> == 4)\",\n",
    "        \"exists(<digit> == 5)\",\n",
    "        \"exists(<digit> == 6)\",\n",
    "        \"exists(<digit> == 7)\",\n",
    "        \"exists(<digit> == 8)\",\n",
    "        \"exists(<digit> == 9)\",\n",
    "        \"num(<term>)\",\n",
    "        \"num(<value>)\",\n",
    "        \"num(<digit>)\",\n",
    "        \"num(<integer>)\"\n",
    "    ]\n",
    "    \n",
    "    actual_feature_names = list(map(lambda f: f.name_rep(), features))\n",
    "    \n",
    "    for feature_name in expected_feature_names:\n",
    "        assert (feature_name in actual_feature_names), f\"Missing feature with name: {feature_name}\"\n",
    "        \n",
    "    print(\"All checks passed!\")"
   ]
  },
  {
   "cell_type": "code",
   "execution_count": null,
   "id": "c5e611ea",
   "metadata": {
    "pycharm": {
     "name": "#%%\n"
    }
   },
   "outputs": [],
   "source": [
    "# Uncomment to execute test\n",
    "if __name__ == \"__main__\":\n",
    "    test_features(get_all_features(CALC_GRAMMAR))"
   ]
  },
  {
   "cell_type": "markdown",
   "id": "a16cf68a",
   "metadata": {
    "pycharm": {
     "name": "#%% md\n"
    }
   },
   "source": [
    "## Task 3:  Extracting feature values from inputs"
   ]
  },
  {
   "cell_type": "markdown",
   "id": "09ffdee7",
   "metadata": {
    "pycharm": {
     "name": "#%% md\n"
    }
   },
   "source": [
    "<div class=\"alert alert-success alertsuccess\">\n",
    "[Task] Implement the function <i>collect_features(sample_list, grammar)</i>. The function should parse all inputs from a list of samples into its features.\n",
    "</div>"
   ]
  },
  {
   "cell_type": "markdown",
   "id": "7651fbdc",
   "metadata": {
    "pycharm": {
     "name": "#%% md\n"
    }
   },
   "source": [
    "**INPUT**:\n",
    "the function requires the following parameter:\n",
    "- sample_list: a list of samples that should be parsed\n",
    "- grammar: the corresponding grammar of the syntactical features"
   ]
  },
  {
   "cell_type": "markdown",
   "id": "41a5bee2",
   "metadata": {
    "pycharm": {
     "name": "#%% md\n"
    }
   },
   "source": [
    "**OUTPUT**: the function should return a pandas Dataframe of the parsed features for all inputs in the sample list:"
   ]
  },
  {
   "cell_type": "markdown",
   "id": "4785cb9c",
   "metadata": {
    "pycharm": {
     "name": "#%% md\n"
    }
   },
   "source": [
    "| feature_1     | feature_2     | ...    |feature_n|\n",
    "| ------------- |-------------|-------------|-----|\n",
    "| 1     | 0 | ...| -900 |\n",
    "| 0     | 1 | ...| 20 |"
   ]
  },
  {
   "cell_type": "markdown",
   "id": "3838aba6",
   "metadata": {
    "pycharm": {
     "name": "#%% md\n"
    }
   },
   "source": [
    "<div class=\"alert alert-info\">\n",
    "[Hint]: It might be usefull to use the implement the abstract functions get_feature_value(self, derivation_tree) of the Feature class for each of the feature types (Existence, Numeric). Given a derivation tree, these functions return the value of the feature.\n",
    "</div>"
   ]
  },
  {
   "cell_type": "code",
   "execution_count": null,
   "id": "e8395c10",
   "metadata": {
    "pycharm": {
     "name": "#%%\n"
    }
   },
   "outputs": [],
   "source": [
    "from fuzzingbook.Parser import EarleyParser\n",
    "from fuzzingbook.Grammars import Grammar\n",
    "import pandas\n",
    "from pandas import DataFrame\n",
    "\n",
    "def collect_features(sample_list: List[str],\n",
    "                     grammar: Grammar) -> DataFrame:\n",
    "    \n",
    "    # write your code here\n",
    "    raise NotImplementedError(\"Func. collect_features: Function not Implemented\")"
   ]
  },
  {
   "cell_type": "markdown",
   "id": "21ce16fe",
   "metadata": {
    "pycharm": {
     "name": "#%% md\n"
    }
   },
   "source": [
    "Possible solution for `collect_features`:\n",
    "\n",
    "<div class=\"alert alert-danger\" role=\"alert\">\n",
    "[Note] This is a rather slow implementation, for many grammars with many syntactically features, the feature collection can be optimized\n",
    "</div>"
   ]
  },
  {
   "cell_type": "code",
   "execution_count": null,
   "id": "7d5af4ee",
   "metadata": {
    "pycharm": {
     "name": "#%%\n"
    }
   },
   "outputs": [],
   "source": [
    "from fuzzingbook.Parser import EarleyParser\n",
    "from fuzzingbook.Grammars import Grammar\n",
    "import pandas\n",
    "from pandas import DataFrame\n",
    "\n",
    "def collect_features(sample_list: List[str],\n",
    "                     grammar: Grammar) -> DataFrame:\n",
    "    \n",
    "    data = []\n",
    "    \n",
    "    # parse grammar and extract features\n",
    "    all_features = get_all_features(grammar)\n",
    "    \n",
    "    # iterate over all samples\n",
    "    for sample in sample_list:\n",
    "        parsed_features = {}\n",
    "        parsed_features[\"sample\"] = sample\n",
    "        # initate dictionary\n",
    "        for feature in all_features:\n",
    "            parsed_features[feature.name] = 0\n",
    "        \n",
    "        # Obtain the parse tree for each input file\n",
    "        earley = EarleyParser(grammar)\n",
    "        for tree in earley.parse(sample):\n",
    "            \n",
    "            for feature in all_features:\n",
    "                parsed_features[feature.name] = feature.get_feature_value(tree)\n",
    "        \n",
    "        data.append(parsed_features)\n",
    "    \n",
    "    return pandas.DataFrame.from_records(data)"
   ]
  },
  {
   "cell_type": "markdown",
   "id": "c8fe5ec3",
   "metadata": {
    "pycharm": {
     "name": "#%% md\n"
    }
   },
   "source": [
    "## Test 2: Check whether we produce the correct feature values"
   ]
  },
  {
   "cell_type": "markdown",
   "id": "118c46ef",
   "metadata": {
    "pycharm": {
     "name": "#%% md\n"
    }
   },
   "source": [
    "`TEST`"
   ]
  },
  {
   "cell_type": "code",
   "execution_count": null,
   "id": "2a777516",
   "metadata": {
    "pycharm": {
     "name": "#%%\n"
    }
   },
   "outputs": [],
   "source": [
    "sample_list = [\"sqrt(-900)\", \"sin(24)\", \"cos(-3.14)\"]\n",
    "df1 = collect_features(sample_list, CALC_GRAMMAR)\n",
    "\n",
    "if __name__ == \"__main__\":\n",
    "    display(df1)"
   ]
  },
  {
   "cell_type": "code",
   "execution_count": null,
   "id": "1ef5c970",
   "metadata": {
    "pycharm": {
     "name": "#%%\n"
    }
   },
   "outputs": [],
   "source": [
    "# TODO: Implement max values for multiple parse trees\n",
    "def get_feature_vector(sample, grammar, features):\n",
    "    '''Returns the feature vector of the sample as a dictionary of feature values'''\n",
    "    \n",
    "    feature_dict = defaultdict(int)\n",
    "    \n",
    "    earley = EarleyParser(grammar)\n",
    "    for tree in earley.parse(sample):\n",
    "        for feature in features:\n",
    "            feature_dict[feature.name] = feature.get_feature_value(tree)\n",
    "    \n",
    "    return feature_dict\n",
    "\n",
    "from sklearn.feature_extraction import DictVectorizer\n",
    "import pandas as pd\n",
    "\n",
    "# Features for each input, one dict per input\n",
    "feature_vectors = [get_feature_vector(sample, CALC_GRAMMAR, get_all_features(CALC_GRAMMAR)) for sample in sample_list]\n",
    "\n",
    "# Transform to numpy array\n",
    "vec = DictVectorizer()\n",
    "X = vec.fit_transform(feature_vectors).toarray()\n",
    "\n",
    "df2 = pd.DataFrame(X, columns = vec.get_feature_names_out())\n",
    "\n",
    "# Check if both dataframes are equal by element-wise comparing each column\n",
    "if __name__ == \"__main__\":\n",
    "    assert all(map(lambda col: all(df1[col] == df2[col]), df2.head()))"
   ]
  },
  {
   "cell_type": "code",
   "execution_count": null,
   "id": "24dd1055",
   "metadata": {
    "pycharm": {
     "name": "#%%\n"
    }
   },
   "outputs": [],
   "source": [
    "# TODO: handle multiple trees\n",
    "from fuzzingbook.Parser import EarleyParser\n",
    "\n",
    "def compute_feature_values(sample: str, grammar: Grammar, features: List[Feature]) -> Dict[str, float]:\n",
    "    '''\n",
    "        Extracts all feature values from an input.\n",
    "        \n",
    "        sample   : The input.\n",
    "        grammar  : The input grammar.\n",
    "        features : The list of input features extracted from the grammar.\n",
    "        \n",
    "    '''\n",
    "    earley = EarleyParser(CALC_GRAMMAR)\n",
    "    \n",
    "    features = {}\n",
    "    for tree in earley.parse(sample):\n",
    "        for feature in get_all_features(CALC_GRAMMAR):\n",
    "            features[feature.name_rep()] = feature.get_feature_value(tree)\n",
    "    return features"
   ]
  },
  {
   "cell_type": "code",
   "execution_count": null,
   "id": "3933c1d5",
   "metadata": {
    "pycharm": {
     "name": "#%%\n"
    }
   },
   "outputs": [],
   "source": [
    "def test_feature_values() -> None:\n",
    "\n",
    "    sample_list = [\"sqrt(-900)\", \"sin(24)\", \"cos(-3.14)\"]\n",
    "\n",
    "    expected_feature_values = {\n",
    "        \"sqrt(-900)\": {\n",
    "            \"exists(<start>)\" : 1,\n",
    "            \"exists(<start> == <function>(<term>))\" : 1,\n",
    "            \"exists(<function>)\" : 1,\n",
    "            \"exists(<function> == sqrt)\" : 1,\n",
    "            \"exists(<function> == tan)\" : 0,\n",
    "            \"exists(<function> == cos)\" : 0,\n",
    "            \"exists(<function> == sin)\" : 0,\n",
    "            \"exists(<term>)\" : 1,\n",
    "            \"exists(<term> == -<value>)\" : 1,\n",
    "            \"exists(<term> == <value>)\" : 0,\n",
    "            \"exists(<value>)\" : 1,\n",
    "            \"exists(<value> == <integer>.<integer>)\" : 0,\n",
    "            \"exists(<value> == <integer>)\" : 1,\n",
    "            \"exists(<integer>)\" : 1,\n",
    "            \"exists(<integer> == <digit><integer>)\" : 1,\n",
    "            \"exists(<integer> == <digit>)\" : 1,\n",
    "            \"exists(<digit>)\" : 1,\n",
    "            \"exists(<digit> == 0)\" : 1,\n",
    "            \"exists(<digit> == 1)\" : 0,\n",
    "            \"exists(<digit> == 2)\" : 0,\n",
    "            \"exists(<digit> == 3)\" : 0,\n",
    "            \"exists(<digit> == 4)\" : 0,\n",
    "            \"exists(<digit> == 5)\" : 0,\n",
    "            \"exists(<digit> == 6)\" : 0,\n",
    "            \"exists(<digit> == 7)\" : 0,\n",
    "            \"exists(<digit> == 8)\" : 0,\n",
    "            \"exists(<digit> == 9)\" : 1,\n",
    "            \"num(<term>)\" : -900.0,\n",
    "            \"num(<value>)\" : 900.0,\n",
    "            \"num(<digit>)\" : 9.0,\n",
    "            \"num(<integer>)\" : 900.0\n",
    "        }, \n",
    "        \"sin(24)\": {\n",
    "            \"exists(<start>)\" : 1,\n",
    "            \"exists(<start> == <function>(<term>))\" : 1,\n",
    "            \"exists(<function>)\" : 1,\n",
    "            \"exists(<function> == sqrt)\" : 0,\n",
    "            \"exists(<function> == tan)\" : 0,\n",
    "            \"exists(<function> == cos)\" : 0,\n",
    "            \"exists(<function> == sin)\" : 1,\n",
    "            \"exists(<term>)\" : 1,\n",
    "            \"exists(<term> == -<value>)\" : 0,\n",
    "            \"exists(<term> == <value>)\" : 1,\n",
    "            \"exists(<value>)\" : 1,\n",
    "            \"exists(<value> == <integer>.<integer>)\" : 0,\n",
    "            \"exists(<value> == <integer>)\" : 1,\n",
    "            \"exists(<integer>)\" : 1,\n",
    "            \"exists(<integer> == <digit><integer>)\" : 1,\n",
    "            \"exists(<integer> == <digit>)\" : 1,\n",
    "            \"exists(<digit>)\" : 1,\n",
    "            \"exists(<digit> == 0)\" : 0,\n",
    "            \"exists(<digit> == 1)\" : 0,\n",
    "            \"exists(<digit> == 2)\" : 1,\n",
    "            \"exists(<digit> == 3)\" : 0,\n",
    "            \"exists(<digit> == 4)\" : 1,\n",
    "            \"exists(<digit> == 5)\" : 0,\n",
    "            \"exists(<digit> == 6)\" : 0,\n",
    "            \"exists(<digit> == 7)\" : 0,\n",
    "            \"exists(<digit> == 8)\" : 0,\n",
    "            \"exists(<digit> == 9)\" : 0,\n",
    "            \"num(<term>)\" : 24.0,\n",
    "            \"num(<value>)\" : 24.0,\n",
    "            \"num(<digit>)\" : 4.0,\n",
    "            \"num(<integer>)\" : 24.0\n",
    "        },\n",
    "        \"cos(-3.14)\": {\n",
    "            \"exists(<start>)\" : 1,\n",
    "            \"exists(<start> == <function>(<term>))\" : 1,\n",
    "            \"exists(<function>)\" : 1,\n",
    "            \"exists(<function> == sqrt)\" : 0,\n",
    "            \"exists(<function> == tan)\" : 0,\n",
    "            \"exists(<function> == cos)\" : 1,\n",
    "            \"exists(<function> == sin)\" : 0,\n",
    "            \"exists(<term>)\" : 1,\n",
    "            \"exists(<term> == -<value>)\" : 1,\n",
    "            \"exists(<term> == <value>)\" : 0,\n",
    "            \"exists(<value>)\" : 1,\n",
    "            \"exists(<value> == <integer>.<integer>)\" : 1,\n",
    "            \"exists(<value> == <integer>)\" : 0,\n",
    "            \"exists(<integer>)\" : 1,\n",
    "            \"exists(<integer> == <digit><integer>)\" : 1,\n",
    "            \"exists(<integer> == <digit>)\" : 1,\n",
    "            \"exists(<digit>)\" : 1,\n",
    "            \"exists(<digit> == 0)\" : 0,\n",
    "            \"exists(<digit> == 1)\" : 1,\n",
    "            \"exists(<digit> == 2)\" : 0,\n",
    "            \"exists(<digit> == 3)\" : 1,\n",
    "            \"exists(<digit> == 4)\" : 1,\n",
    "            \"exists(<digit> == 5)\" : 0,\n",
    "            \"exists(<digit> == 6)\" : 0,\n",
    "            \"exists(<digit> == 7)\" : 0,\n",
    "            \"exists(<digit> == 8)\" : 0,\n",
    "            \"exists(<digit> == 9)\" : 0,\n",
    "            \"num(<term>)\" : -3.14,\n",
    "            \"num(<value>)\" : 3.14,\n",
    "            \"num(<digit>)\" : 4.0,\n",
    "            \"num(<integer>)\" : 14.0\n",
    "        }\n",
    "    }\n",
    "\n",
    "    all_features = get_all_features(CALC_GRAMMAR)\n",
    "    for sample in sample_list:\n",
    "        input_features = compute_feature_values(sample, CALC_GRAMMAR, all_features)\n",
    "\n",
    "        for feature in all_features:\n",
    "            key = feature.name_rep()\n",
    "            #print(f\"\\t{key.ljust(50)}: {input_features[key]}\")\n",
    "            #print('\"' + key + '\"' + ' : ' + str(input_features[key]) + ',')\n",
    "            expected = expected_feature_values[sample][key]\n",
    "            actual = input_features[key]\n",
    "            assert (expected == actual), f\"Wrong feature value for sample {sample} and feature {key}: expected {expected} but is {actual}.\"\n",
    "            \n",
    "    print(\"All checks passed!\")"
   ]
  },
  {
   "cell_type": "code",
   "execution_count": null,
   "id": "1f79122d",
   "metadata": {
    "pycharm": {
     "name": "#%%\n"
    }
   },
   "outputs": [],
   "source": [
    "# Uncomment to execute test\n",
    "if __name__ == \"__main__\":\n",
    "    test_feature_values()"
   ]
  }
 ],
 "metadata": {
  "kernelspec": {
   "display_name": "Python 3 (ipykernel)",
   "language": "python",
   "name": "python3"
  },
  "language_info": {
   "codemirror_mode": {
    "name": "ipython",
    "version": 3
   },
   "file_extension": ".py",
   "mimetype": "text/x-python",
   "name": "python",
   "nbconvert_exporter": "python",
   "pygments_lexer": "ipython3",
   "version": "3.10.4"
  }
 },
 "nbformat": 4,
 "nbformat_minor": 5
}